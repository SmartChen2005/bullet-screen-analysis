{
 "cells": [
  {
   "cell_type": "markdown",
   "metadata": {},
   "source": [
    "# 极限挑战 bullet scrren analysis - Bilibili"
   ]
  },
  {
   "cell_type": "markdown",
   "metadata": {},
   "source": [
    "analysis about bullet screen from the movie *Harry Potter and the Sorcerer's Stone* on video website Bilibili"
   ]
  },
  {
   "cell_type": "code",
   "execution_count": 1,
   "metadata": {},
   "outputs": [],
   "source": [
    "import pandas as pd\n",
    "import requests\n",
    "import jieba\n",
    "from bs4 import BeautifulSoup\n",
    "import matplotlib.pyplot as plt\n",
    "import numpy as np\n",
    "from jieba import analyse"
   ]
  },
  {
   "cell_type": "markdown",
   "metadata": {},
   "source": [
    "## 弹幕获取\n",
    "弹幕列表：contents"
   ]
  },
  {
   "cell_type": "code",
   "execution_count": 2,
   "metadata": {},
   "outputs": [],
   "source": [
    "# 弹幕位置的固定格式 http://comment.bilibili.com/+cid+.xml\n",
    "# 详情见文章 https://www.jb51.net/article/236663.htm\n",
    "# https://api.bilibili.com/x/player/pagelist?bvid=BV1qt411j7fV\n",
    "\n",
    "url = \"https://comment.bilibili.com/168497302.xml\""
   ]
  },
  {
   "cell_type": "code",
   "execution_count": 3,
   "metadata": {},
   "outputs": [],
   "source": [
    "# 假装浏览器\n",
    "header ={\n",
    "    'User-Agent':'Mozilla/5.0 (Windows NT 10.0; Win64; x64) AppleWebKit/537.36 (KHTML, like Gecko) Chrome/98.0.4758.80 Safari/537.36 Edg/98.0.1108.43'\n",
    "}\n",
    "\n",
    "# 发送请求\n",
    "req = requests.get(url = url, headers=header)\n",
    "# 获取内容响应的内容\n",
    "html_byte = req.content\n",
    "# 将byte转为str\n",
    "html_str = str(html_byte,\"utf-8\")"
   ]
  },
  {
   "cell_type": "code",
   "execution_count": 4,
   "metadata": {},
   "outputs": [],
   "source": [
    "# 解析\n",
    "soup = BeautifulSoup(html_str,'html.parser')\n",
    "#找到html文件里的<d>标签\n",
    "results = soup.find_all('d')\n",
    "#把标签里的文本提取出来\n",
    "contents = [x.text for x in results]\n",
    "#存为字典\n",
    "dic ={\"contents\" : contents}"
   ]
  },
  {
   "cell_type": "markdown",
   "metadata": {},
   "source": [
    "## 弹幕分析"
   ]
  },
  {
   "cell_type": "markdown",
   "metadata": {},
   "source": [
    "### 初始化"
   ]
  },
  {
   "cell_type": "code",
   "execution_count": 5,
   "metadata": {},
   "outputs": [
    {
     "data": {
      "text/plain": [
       "0              中单黄磊 辅助小猪 打野渤哥\n",
       "1               这里渤哥好宠啊啊啊啊啊啊啊\n",
       "2                这个时候严导还是有点肉的\n",
       "3                 渤哥：涮一下就是我的了\n",
       "4       只要你语速够快就能顺手牵走一只懵b羊哈哈哈\n",
       "                ...          \n",
       "9595                       杀猪\n",
       "9596         张拿了人家给的时间，最后不办人事\n",
       "9597                      好废啊\n",
       "9598              张艺兴了感觉他作用不大\n",
       "9599                      我好急\n",
       "Name: contents, Length: 9600, dtype: object"
      ]
     },
     "execution_count": 5,
     "metadata": {},
     "output_type": "execute_result"
    }
   ],
   "source": [
    "df = pd.DataFrame(dic)\n",
    "df[\"contents\"]"
   ]
  },
  {
   "cell_type": "markdown",
   "metadata": {},
   "source": [
    "### 最多弹幕"
   ]
  },
  {
   "cell_type": "code",
   "execution_count": 6,
   "metadata": {},
   "outputs": [
    {
     "data": {
      "text/plain": [
       "contents         \n",
       "哈哈哈哈哈哈哈              142\n",
       "哈哈哈哈哈哈               125\n",
       "哈哈哈哈哈                113\n",
       "哈哈哈哈哈哈哈哈              97\n",
       "哈哈哈哈哈哈哈哈哈             93\n",
       "哈哈哈哈哈哈哈哈哈哈            82\n",
       "哈哈哈哈                  74\n",
       "哈哈哈哈哈哈哈哈哈哈哈           61\n",
       "梦开始的地方                54\n",
       "哈哈哈哈哈哈哈哈哈哈哈哈哈哈        50\n",
       "哈哈哈                   47\n",
       "哈哈哈哈哈哈哈哈哈哈哈哈          34\n",
       "哈哈哈哈哈哈哈哈哈哈哈哈哈         34\n",
       "哈哈哈哈哈哈哈哈哈哈哈哈哈哈哈哈哈     27\n",
       "哈哈哈哈哈哈哈哈哈哈哈哈哈哈哈       17\n",
       "极限挑战，这就是命             14\n",
       "哈哈                    14\n",
       "《孙大哥》                 13\n",
       "哈哈哈哈哈哈哈哈哈哈哈哈哈哈哈哈      11\n",
       "笑死我了                  11\n",
       "dtype: int64"
      ]
     },
     "execution_count": 6,
     "metadata": {},
     "output_type": "execute_result"
    }
   ],
   "source": [
    "df.value_counts()[:20]"
   ]
  },
  {
   "cell_type": "markdown",
   "metadata": {},
   "source": [
    "### 词频统计\n",
    "部分结果在 jixian_b_result.txt"
   ]
  },
  {
   "cell_type": "code",
   "execution_count": 7,
   "metadata": {},
   "outputs": [],
   "source": [
    "# jieba.load_userdict(\"哈利波特词表.txt\")"
   ]
  },
  {
   "cell_type": "code",
   "execution_count": 31,
   "metadata": {},
   "outputs": [],
   "source": [
    "b_all_danmu_text = \"\"\n",
    "for i in contents:\n",
    "    b_all_danmu_text+=i+' '\n",
    "a = jieba.lcut(b_all_danmu_text, cut_all=False)"
   ]
  },
  {
   "cell_type": "code",
   "execution_count": 32,
   "metadata": {},
   "outputs": [],
   "source": [
    "counts={}\n",
    "for word in a:\n",
    "    counts[word] = counts.get(word,0)+1"
   ]
  },
  {
   "cell_type": "code",
   "execution_count": 33,
   "metadata": {},
   "outputs": [
    {
     "name": "stdout",
     "output_type": "stream",
     "text": [
      "!\n"
     ]
    }
   ],
   "source": [
    "# excludes = {\"，\",\"：\",\"“\",\"。\",\"”\",\"、\",\"；\",\"！\",\"？\",\".\"}\n",
    "excludes=[]\n",
    "tingyongci = open(\"停用词.txt\",'r')\n",
    "print(tingyongci.readline()[:-1])\n",
    "for i in tingyongci.readlines():\n",
    "    excludes.append(i[:-1])\n",
    "for word in excludes:\n",
    "    try:\n",
    "        del counts[word]\n",
    "    except:\n",
    "        pass"
   ]
  },
  {
   "cell_type": "code",
   "execution_count": 34,
   "metadata": {},
   "outputs": [],
   "source": [
    "items = list(counts.items())\n",
    "items.sort(key=lambda x:x[1],reverse = True)"
   ]
  },
  {
   "cell_type": "code",
   "execution_count": 35,
   "metadata": {},
   "outputs": [],
   "source": [
    "hp_qq_result = open(\"jixian_b_result.txt\",\"w\")\n",
    "for i in range(200):\n",
    "    word, count = items[i]\n",
    "    hp_qq_result.writelines(\"{0:<10}{1:>5}\\n\".format(word,count))\n",
    "hp_qq_result.close()"
   ]
  },
  {
   "cell_type": "code",
   "execution_count": 36,
   "metadata": {},
   "outputs": [
    {
     "name": "stdout",
     "output_type": "stream",
     "text": [
      "2687\n"
     ]
    }
   ],
   "source": [
    "test_word = \"哈哈\"\n",
    "\n",
    "count = 0\n",
    "for i in df[\"contents\"]:\n",
    "    if test_word in i:\n",
    "        count+=1\n",
    "\n",
    "print(count)"
   ]
  },
  {
   "cell_type": "markdown",
   "metadata": {},
   "source": [
    "### 情感分析"
   ]
  },
  {
   "cell_type": "code",
   "execution_count": 37,
   "metadata": {},
   "outputs": [],
   "source": [
    "from snownlp import SnowNLP"
   ]
  },
  {
   "cell_type": "code",
   "execution_count": 38,
   "metadata": {},
   "outputs": [
    {
     "data": {
      "text/html": [
       "<div>\n",
       "<style scoped>\n",
       "    .dataframe tbody tr th:only-of-type {\n",
       "        vertical-align: middle;\n",
       "    }\n",
       "\n",
       "    .dataframe tbody tr th {\n",
       "        vertical-align: top;\n",
       "    }\n",
       "\n",
       "    .dataframe thead th {\n",
       "        text-align: right;\n",
       "    }\n",
       "</style>\n",
       "<table border=\"1\" class=\"dataframe\">\n",
       "  <thead>\n",
       "    <tr style=\"text-align: right;\">\n",
       "      <th></th>\n",
       "      <th>contents</th>\n",
       "      <th>emotion</th>\n",
       "    </tr>\n",
       "  </thead>\n",
       "  <tbody>\n",
       "    <tr>\n",
       "      <th>0</th>\n",
       "      <td>中单黄磊 辅助小猪 打野渤哥</td>\n",
       "      <td>0.815210</td>\n",
       "    </tr>\n",
       "    <tr>\n",
       "      <th>1</th>\n",
       "      <td>这里渤哥好宠啊啊啊啊啊啊啊</td>\n",
       "      <td>0.998178</td>\n",
       "    </tr>\n",
       "    <tr>\n",
       "      <th>2</th>\n",
       "      <td>这个时候严导还是有点肉的</td>\n",
       "      <td>0.491427</td>\n",
       "    </tr>\n",
       "    <tr>\n",
       "      <th>3</th>\n",
       "      <td>渤哥：涮一下就是我的了</td>\n",
       "      <td>0.350725</td>\n",
       "    </tr>\n",
       "    <tr>\n",
       "      <th>4</th>\n",
       "      <td>只要你语速够快就能顺手牵走一只懵b羊哈哈哈</td>\n",
       "      <td>0.995947</td>\n",
       "    </tr>\n",
       "  </tbody>\n",
       "</table>\n",
       "</div>"
      ],
      "text/plain": [
       "                contents   emotion\n",
       "0         中单黄磊 辅助小猪 打野渤哥  0.815210\n",
       "1          这里渤哥好宠啊啊啊啊啊啊啊  0.998178\n",
       "2           这个时候严导还是有点肉的  0.491427\n",
       "3            渤哥：涮一下就是我的了  0.350725\n",
       "4  只要你语速够快就能顺手牵走一只懵b羊哈哈哈  0.995947"
      ]
     },
     "execution_count": 38,
     "metadata": {},
     "output_type": "execute_result"
    }
   ],
   "source": [
    "df['emotion'] = df['contents'].apply(lambda x: SnowNLP(x).sentiments)\n",
    "df.head()"
   ]
  },
  {
   "cell_type": "code",
   "execution_count": 39,
   "metadata": {},
   "outputs": [
    {
     "data": {
      "text/plain": [
       "count    9600.000000\n",
       "mean        0.667365\n",
       "std         0.292673\n",
       "min         0.000002\n",
       "25%         0.466633\n",
       "50%         0.735654\n",
       "75%         0.942196\n",
       "max         1.000000\n",
       "Name: emotion, dtype: float64"
      ]
     },
     "execution_count": 39,
     "metadata": {},
     "output_type": "execute_result"
    }
   ],
   "source": [
    "df['emotion'].describe()"
   ]
  },
  {
   "cell_type": "code",
   "execution_count": 40,
   "metadata": {},
   "outputs": [
    {
     "data": {
      "image/png": "[encoded data removed]",
      "text/plain": [
       "<Figure size 432x288 with 1 Axes>"
      ]
     },
     "metadata": {
      "needs_background": "light"
     },
     "output_type": "display_data"
    }
   ],
   "source": [
    "#  绘制情感分直方图\n",
    "plt.rcParams['font.sans-serif'] = ['SimHei']\n",
    "plt.rcParams['axes.unicode_minus'] = False\n",
    " \n",
    "bins = np.arange(0, 1.1, 0.1)\n",
    "plt.hist(df['emotion'], bins, color = '#4F94CD', alpha=0.9)\n",
    "plt.xlim(0, 1)\n",
    "plt.xlabel('emotion score (higher score means more positive emotion)')\n",
    "plt.ylabel('count')\n",
    "plt.title('Go Fighting! bullet screen on bilibili')\n",
    "plt.show()"
   ]
  },
  {
   "cell_type": "code",
   "execution_count": 41,
   "metadata": {},
   "outputs": [
    {
     "data": {
      "text/plain": [
       "[('哈哈哈', 1.2663099352838902),\n",
       " ('哈哈哈哈', 0.5408917270240909),\n",
       " ('哈哈', 0.11244610816948052),\n",
       " ('艺兴', 0.11134572907069396),\n",
       " ('王迅', 0.09683941929739932),\n",
       " ('小猪', 0.0774978550916765),\n",
       " ('雷磊', 0.07253154886647317),\n",
       " ('红雷', 0.06900298702972583),\n",
       " ('黄磊', 0.06821886217711531),\n",
       " ('迅哥', 0.06547442519297848)]"
      ]
     },
     "execution_count": 41,
     "metadata": {},
     "output_type": "execute_result"
    }
   ],
   "source": [
    "key_words = jieba.analyse.extract_tags(sentence=b_all_danmu_text, topK=10, withWeight=True, allowPOS=())\n",
    "key_words"
   ]
  },
  {
   "cell_type": "code",
   "execution_count": 42,
   "metadata": {},
   "outputs": [
    {
     "data": {
      "text/html": [
       "<div>\n",
       "<style scoped>\n",
       "    .dataframe tbody tr th:only-of-type {\n",
       "        vertical-align: middle;\n",
       "    }\n",
       "\n",
       "    .dataframe tbody tr th {\n",
       "        vertical-align: top;\n",
       "    }\n",
       "\n",
       "    .dataframe thead th {\n",
       "        text-align: right;\n",
       "    }\n",
       "</style>\n",
       "<table border=\"1\" class=\"dataframe\">\n",
       "  <thead>\n",
       "    <tr style=\"text-align: right;\">\n",
       "      <th></th>\n",
       "      <th>contents</th>\n",
       "      <th>emotion</th>\n",
       "    </tr>\n",
       "  </thead>\n",
       "  <tbody>\n",
       "    <tr>\n",
       "      <th>15</th>\n",
       "      <td>三傻里面红雷哥锁了门</td>\n",
       "      <td>0.109750</td>\n",
       "    </tr>\n",
       "    <tr>\n",
       "      <th>30</th>\n",
       "      <td>严导这时候还是寸头</td>\n",
       "      <td>0.123460</td>\n",
       "    </tr>\n",
       "    <tr>\n",
       "      <th>31</th>\n",
       "      <td>拖着（物理）</td>\n",
       "      <td>0.197133</td>\n",
       "    </tr>\n",
       "    <tr>\n",
       "      <th>56</th>\n",
       "      <td>虚假的大哥vs真正的大哥</td>\n",
       "      <td>0.017693</td>\n",
       "    </tr>\n",
       "    <tr>\n",
       "      <th>57</th>\n",
       "      <td>一周后：这是信任的问题，信任！</td>\n",
       "      <td>0.176490</td>\n",
       "    </tr>\n",
       "  </tbody>\n",
       "</table>\n",
       "</div>"
      ],
      "text/plain": [
       "           contents   emotion\n",
       "15       三傻里面红雷哥锁了门  0.109750\n",
       "30        严导这时候还是寸头  0.123460\n",
       "31           拖着（物理）  0.197133\n",
       "56     虚假的大哥vs真正的大哥  0.017693\n",
       "57  一周后：这是信任的问题，信任！  0.176490"
      ]
     },
     "execution_count": 42,
     "metadata": {},
     "output_type": "execute_result"
    }
   ],
   "source": [
    "df_bad=df[df['emotion']<0.2]\n",
    "df_bad.head()"
   ]
  },
  {
   "cell_type": "code",
   "execution_count": 43,
   "metadata": {},
   "outputs": [
    {
     "data": {
      "text/plain": [
       "[('顺序', 0.21412325821450992),\n",
       " ('叫醒', 0.18527650039555024),\n",
       " ('孙红雷', 0.15965529353301264),\n",
       " ('渤迅', 0.15096218734870714),\n",
       " ('吸吸', 0.110179891587282),\n",
       " ('艺兴', 0.0970471204384546),\n",
       " ('黄磊', 0.0970471204384546),\n",
       " ('红雷', 0.08626410705640408),\n",
       " ('孙大哥', 0.08339090195411906),\n",
       " ('起床', 0.0800281443752345),\n",
       " ('张艺兴', 0.07188675588033674),\n",
       " ('极限', 0.06643782473326518),\n",
       " ('大哥', 0.0568573510671828),\n",
       " ('12', 0.05391506691025256),\n",
       " ('时间', 0.04783585257544799),\n",
       " ('迅哥', 0.04672639132221888),\n",
       " ('双黄', 0.04495976275694528),\n",
       " ('磊磊', 0.04368094864263379),\n",
       " ('就是', 0.04327335066434155),\n",
       " ('渤哥', 0.04313205352820204),\n",
       " ('知道', 0.04062528273000601),\n",
       " ('这时候', 0.038404993830372824),\n",
       " ('小猪', 0.03775510553944678),\n",
       " ('不是', 0.03760184447651834),\n",
       " ('红雷哥', 0.03594337794016837),\n",
       " ('这个', 0.03324927187005713),\n",
       " ('早上', 0.03264652545744137),\n",
       " ('严导', 0.03234904014615153),\n",
       " ('蓝队', 0.03234904014615153),\n",
       " ('后面', 0.02935097656649429),\n",
       " ('一个', 0.028802385163084785),\n",
       " ('王迅', 0.028754702352134696),\n",
       " ('钥匙', 0.028627291327179796),\n",
       " ('这里', 0.02825354115239026),\n",
       " ('开始', 0.02658918324862297),\n",
       " ('镜头', 0.02587905239702345),\n",
       " ('反锁', 0.025507734903187012),\n",
       " ('洗碗', 0.025254312135417917),\n",
       " ('黄渤', 0.02516036455811786),\n",
       " ('发现', 0.02498133174780517),\n",
       " ('直接', 0.02473366767125677),\n",
       " ('第一期', 0.024381526372143712),\n",
       " ('箱子', 0.02382539609945881),\n",
       " ('哈哈哈', 0.02371046634790138),\n",
       " ('小羊', 0.022848191972369213),\n",
       " ('综艺', 0.02256715777245941),\n",
       " ('任务', 0.021978096627949487),\n",
       " ('时候', 0.02192083213123271),\n",
       " ('恐磊症', 0.02156602676410102),\n",
       " ('不吃不喝', 0.021492058744828624),\n",
       " ('红队', 0.020896989855682502),\n",
       " ('节目组', 0.019854976655742634),\n",
       " ('后悔', 0.019811436548325314),\n",
       " ('三精', 0.019764711977390256),\n",
       " ('为啥', 0.019652622655441973),\n",
       " ('干嘛', 0.019481060514073965),\n",
       " ('哈哈', 0.018958711815947084),\n",
       " ('心疼', 0.018947035619987975),\n",
       " ('真的', 0.018632340754079976),\n",
       " ('应该', 0.01830810028458208),\n",
       " ('耗死', 0.017971688970084186),\n",
       " ('单刷', 0.017971688970084186),\n",
       " ('排面', 0.017971688970084186),\n",
       " ('记住', 0.017965956873217077),\n",
       " ('着急', 0.017954365083848466),\n",
       " ('可以', 0.01791552233515334),\n",
       " ('挑战', 0.017839820757934458),\n",
       " ('打电话', 0.017613508825616356),\n",
       " ('哈哈哈哈', 0.017491253817041492),\n",
       " ('满街', 0.0170619838764101),\n",
       " ('信任', 0.017020574821238723),\n",
       " ('他们', 0.016886583889212266),\n",
       " ('老大', 0.01656848885214973),\n",
       " ('不会', 0.015917214117474446),\n",
       " ('没有', 0.015910403069016837),\n",
       " ('菠萝', 0.015898523120998195),\n",
       " ('节目', 0.015878529747131692),\n",
       " ('是不是', 0.015840130267342153),\n",
       " ('现在', 0.015453613361635598),\n",
       " ('师傅', 0.01527032675204149),\n",
       " ('追击', 0.01526626279564041),\n",
       " ('前面', 0.014810361878893565),\n",
       " ('怎么', 0.014616914285502105),\n",
       " ('竟然', 0.014417631797017438),\n",
       " ('按钮', 0.014406478560493085),\n",
       " ('已经', 0.014397979867396273),\n",
       " ('磊哥', 0.014377351176067348),\n",
       " ('2333', 0.014377351176067348),\n",
       " ('炽天使', 0.014377351176067348),\n",
       " ('鸡条', 0.014377351176067348),\n",
       " ('11', 0.014377351176067348),\n",
       " ('欧皇', 0.014377351176067348),\n",
       " ('号位', 0.014377351176067348),\n",
       " ('最后', 0.014000347960072157),\n",
       " ('所以', 0.013996480529987974),\n",
       " ('什么', 0.013941590492092605),\n",
       " ('第一集', 0.013729129287071557),\n",
       " ('别人', 0.013433232760288636),\n",
       " ('猎物', 0.013425833361996393),\n",
       " ('地方', 0.01327688645318701)]"
      ]
     },
     "execution_count": 43,
     "metadata": {},
     "output_type": "execute_result"
    }
   ],
   "source": [
    "bad_text = ''\n",
    "for i in df_bad['contents']:\n",
    "    bad_text += i\n",
    "#消极评论关键词top10\n",
    "key_words = jieba.analyse.extract_tags(sentence=bad_text, topK=100, withWeight=True, allowPOS=())\n",
    "key_words"
   ]
  },
  {
   "cell_type": "code",
   "execution_count": 44,
   "metadata": {},
   "outputs": [
    {
     "data": {
      "text/html": [
       "<div>\n",
       "<style scoped>\n",
       "    .dataframe tbody tr th:only-of-type {\n",
       "        vertical-align: middle;\n",
       "    }\n",
       "\n",
       "    .dataframe tbody tr th {\n",
       "        vertical-align: top;\n",
       "    }\n",
       "\n",
       "    .dataframe thead th {\n",
       "        text-align: right;\n",
       "    }\n",
       "</style>\n",
       "<table border=\"1\" class=\"dataframe\">\n",
       "  <thead>\n",
       "    <tr style=\"text-align: right;\">\n",
       "      <th></th>\n",
       "      <th>contents</th>\n",
       "      <th>emotion</th>\n",
       "    </tr>\n",
       "  </thead>\n",
       "  <tbody>\n",
       "  </tbody>\n",
       "</table>\n",
       "</div>"
      ],
      "text/plain": [
       "Empty DataFrame\n",
       "Columns: [contents, emotion]\n",
       "Index: []"
      ]
     },
     "execution_count": 44,
     "metadata": {},
     "output_type": "execute_result"
    }
   ],
   "source": [
    "df[df['contents'].str.contains(\"VIP\")]"
   ]
  },
  {
   "cell_type": "code",
   "execution_count": 45,
   "metadata": {},
   "outputs": [
    {
     "data": {
      "text/html": [
       "<div>\n",
       "<style scoped>\n",
       "    .dataframe tbody tr th:only-of-type {\n",
       "        vertical-align: middle;\n",
       "    }\n",
       "\n",
       "    .dataframe tbody tr th {\n",
       "        vertical-align: top;\n",
       "    }\n",
       "\n",
       "    .dataframe thead th {\n",
       "        text-align: right;\n",
       "    }\n",
       "</style>\n",
       "<table border=\"1\" class=\"dataframe\">\n",
       "  <thead>\n",
       "    <tr style=\"text-align: right;\">\n",
       "      <th></th>\n",
       "      <th>contents</th>\n",
       "      <th>emotion</th>\n",
       "    </tr>\n",
       "  </thead>\n",
       "  <tbody>\n",
       "    <tr>\n",
       "      <th>1372</th>\n",
       "      <td>向往6过来、又充了一季大会员、希望他们能再重聚一次我就心满意足了</td>\n",
       "      <td>0.859151</td>\n",
       "    </tr>\n",
       "    <tr>\n",
       "      <th>1631</th>\n",
       "      <td>开会员看极限</td>\n",
       "      <td>0.067371</td>\n",
       "    </tr>\n",
       "    <tr>\n",
       "      <th>2189</th>\n",
       "      <td>对吼 第一期不用会员</td>\n",
       "      <td>0.494402</td>\n",
       "    </tr>\n",
       "    <tr>\n",
       "      <th>3872</th>\n",
       "      <td>俄乌大战时期，当年优酷开会员看的</td>\n",
       "      <td>0.981106</td>\n",
       "    </tr>\n",
       "    <tr>\n",
       "      <th>4054</th>\n",
       "      <td>恭喜恭喜！第二期见~因为极挑开了年度会员</td>\n",
       "      <td>0.419850</td>\n",
       "    </tr>\n",
       "    <tr>\n",
       "      <th>5085</th>\n",
       "      <td>我也是想在b站看视频才充会员的</td>\n",
       "      <td>0.921435</td>\n",
       "    </tr>\n",
       "    <tr>\n",
       "      <th>5217</th>\n",
       "      <td>为看艺兴充会员！！！</td>\n",
       "      <td>0.215307</td>\n",
       "    </tr>\n",
       "    <tr>\n",
       "      <th>7824</th>\n",
       "      <td>充了会员，好想你们啊</td>\n",
       "      <td>0.477513</td>\n",
       "    </tr>\n",
       "    <tr>\n",
       "      <th>7864</th>\n",
       "      <td>真的好想开会员</td>\n",
       "      <td>0.284938</td>\n",
       "    </tr>\n",
       "    <tr>\n",
       "      <th>8312</th>\n",
       "      <td>第二季第一集见! 贫穷的会员们!</td>\n",
       "      <td>0.944408</td>\n",
       "    </tr>\n",
       "    <tr>\n",
       "      <th>9516</th>\n",
       "      <td>说一下，前两集不要会员，跑三粉都来这黑，别理他们</td>\n",
       "      <td>0.348035</td>\n",
       "    </tr>\n",
       "    <tr>\n",
       "      <th>9565</th>\n",
       "      <td>都是会员说话嚣张点</td>\n",
       "      <td>0.318069</td>\n",
       "    </tr>\n",
       "  </tbody>\n",
       "</table>\n",
       "</div>"
      ],
      "text/plain": [
       "                              contents   emotion\n",
       "1372  向往6过来、又充了一季大会员、希望他们能再重聚一次我就心满意足了  0.859151\n",
       "1631                            开会员看极限  0.067371\n",
       "2189                        对吼 第一期不用会员  0.494402\n",
       "3872                  俄乌大战时期，当年优酷开会员看的  0.981106\n",
       "4054              恭喜恭喜！第二期见~因为极挑开了年度会员  0.419850\n",
       "5085                   我也是想在b站看视频才充会员的  0.921435\n",
       "5217                        为看艺兴充会员！！！  0.215307\n",
       "7824                        充了会员，好想你们啊  0.477513\n",
       "7864                           真的好想开会员  0.284938\n",
       "8312                  第二季第一集见! 贫穷的会员们!  0.944408\n",
       "9516          说一下，前两集不要会员，跑三粉都来这黑，别理他们  0.348035\n",
       "9565                         都是会员说话嚣张点  0.318069"
      ]
     },
     "execution_count": 45,
     "metadata": {},
     "output_type": "execute_result"
    }
   ],
   "source": [
    "df[df['contents'].str.contains(\"会员\")]"
   ]
  },
  {
   "cell_type": "code",
   "execution_count": 46,
   "metadata": {},
   "outputs": [
    {
     "data": {
      "text/html": [
       "<div>\n",
       "<style scoped>\n",
       "    .dataframe tbody tr th:only-of-type {\n",
       "        vertical-align: middle;\n",
       "    }\n",
       "\n",
       "    .dataframe tbody tr th {\n",
       "        vertical-align: top;\n",
       "    }\n",
       "\n",
       "    .dataframe thead th {\n",
       "        text-align: right;\n",
       "    }\n",
       "</style>\n",
       "<table border=\"1\" class=\"dataframe\">\n",
       "  <thead>\n",
       "    <tr style=\"text-align: right;\">\n",
       "      <th></th>\n",
       "      <th>contents</th>\n",
       "      <th>emotion</th>\n",
       "    </tr>\n",
       "  </thead>\n",
       "  <tbody>\n",
       "    <tr>\n",
       "      <th>8266</th>\n",
       "      <td>说起疫情，我现在就在病房里治疗新冠，真的好难受</td>\n",
       "      <td>0.622290</td>\n",
       "    </tr>\n",
       "    <tr>\n",
       "      <th>9156</th>\n",
       "      <td>那个时候还没有疫情</td>\n",
       "      <td>0.548818</td>\n",
       "    </tr>\n",
       "    <tr>\n",
       "      <th>9480</th>\n",
       "      <td>疫情后第三个5月</td>\n",
       "      <td>0.151042</td>\n",
       "    </tr>\n",
       "    <tr>\n",
       "      <th>9564</th>\n",
       "      <td>怀念没有疫情时的上海</td>\n",
       "      <td>0.593291</td>\n",
       "    </tr>\n",
       "  </tbody>\n",
       "</table>\n",
       "</div>"
      ],
      "text/plain": [
       "                     contents   emotion\n",
       "8266  说起疫情，我现在就在病房里治疗新冠，真的好难受  0.622290\n",
       "9156                那个时候还没有疫情  0.548818\n",
       "9480                 疫情后第三个5月  0.151042\n",
       "9564               怀念没有疫情时的上海  0.593291"
      ]
     },
     "execution_count": 46,
     "metadata": {},
     "output_type": "execute_result"
    }
   ],
   "source": [
    "df[df['contents'].str.contains(\"疫情\")]"
   ]
  },
  {
   "cell_type": "code",
   "execution_count": null,
   "metadata": {},
   "outputs": [],
   "source": []
  }
 ],
 "metadata": {
  "interpreter": {
   "hash": "aee8b7b246df8f9039afb4144a1f6fd8d2ca17a180786b69acc140d282b71a49"
  },
  "kernelspec": {
   "display_name": "Python 3.10.2 64-bit",
   "language": "python",
   "name": "python3"
  },
  "language_info": {
   "codemirror_mode": {
    "name": "ipython",
    "version": 3
   },
   "file_extension": ".py",
   "mimetype": "text/x-python",
   "name": "python",
   "nbconvert_exporter": "python",
   "pygments_lexer": "ipython3",
   "version": "3.10.2"
  },
  "orig_nbformat": 4
 },
 "nbformat": 4,
 "nbformat_minor": 2
}
