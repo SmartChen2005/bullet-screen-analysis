{
 "cells": [
  {
   "cell_type": "markdown",
   "metadata": {},
   "source": [
    "# 极限挑战 bullet scrren analysis - Tencent Video"
   ]
  },
  {
   "cell_type": "markdown",
   "metadata": {},
   "source": [
    "analysis about bullet screen from the variety shows *极限挑战* season 1 episode 1 on video website Tencent Video"
   ]
  },
  {
   "cell_type": "code",
   "execution_count": 1,
   "metadata": {},
   "outputs": [],
   "source": [
    "import pandas as pd\n",
    "import requests\n",
    "import json\n",
    "import jieba #中文分词\n",
    "import matplotlib.pyplot as plt\n",
    "import numpy as np\n",
    "from jieba import analyse"
   ]
  },
  {
   "cell_type": "markdown",
   "metadata": {},
   "source": [
    "## 弹幕获取"
   ]
  },
  {
   "cell_type": "code",
   "execution_count": 2,
   "metadata": {},
   "outputs": [],
   "source": [
    "# https://dm.video.qq.com/barrage/segment/r0016xsgeil/t/1627911651/150000/180000/041902a_1656776035\n",
    "danmu_template = \"https://dm.video.qq.com/barrage/segment/r0016xsgeil/\""
   ]
  },
  {
   "cell_type": "code",
   "execution_count": 3,
   "metadata": {},
   "outputs": [],
   "source": [
    "# obtained form https://dm.video.qq.com/barrage/base/r0016xsgeil\n",
    "qq_time_dic = {\"0\":{\"segment_start\":\"0\",\"segment_name\":\"t/1627911651/0/30000/041902a_1656776035\"},\"30000\":{\"segment_start\":\"30000\",\"segment_name\":\"t/1627911651/30000/60000/041902a_1656776035\"},\"60000\":{\"segment_start\":\"60000\",\"segment_name\":\"t/1627911651/60000/90000/041902a_1656776035\"},\"90000\":{\"segment_start\":\"90000\",\"segment_name\":\"t/1627911651/90000/120000/041902a_1656776035\"},\"120000\":{\"segment_start\":\"120000\",\"segment_name\":\"t/1627911651/120000/150000/041902a_1656776035\"},\"150000\":{\"segment_start\":\"150000\",\"segment_name\":\"t/1627911651/150000/180000/041902a_1656776035\"},\"180000\":{\"segment_start\":\"180000\",\"segment_name\":\"t/1627911651/180000/210000/041902a_1656776035\"},\"210000\":{\"segment_start\":\"210000\",\"segment_name\":\"t/1627911651/210000/240000/041902a_1656776035\"},\"240000\":{\"segment_start\":\"240000\",\"segment_name\":\"t/1627911651/240000/270000/041902a_1656776035\"},\"270000\":{\"segment_start\":\"270000\",\"segment_name\":\"t/1627911651/270000/300000/041902a_1656776035\"},\"300000\":{\"segment_start\":\"300000\",\"segment_name\":\"t/1627911651/300000/330000/041902a_1656776035\"},\"330000\":{\"segment_start\":\"330000\",\"segment_name\":\"t/1627911651/330000/360000/041902a_1656776035\"},\"360000\":{\"segment_start\":\"360000\",\"segment_name\":\"t/1627911651/360000/390000/041902a_1656776035\"},\"390000\":{\"segment_start\":\"390000\",\"segment_name\":\"t/1627911651/390000/420000/041902a_1656776035\"},\"420000\":{\"segment_start\":\"420000\",\"segment_name\":\"t/1627911651/420000/450000/041902a_1656776035\"},\"450000\":{\"segment_start\":\"450000\",\"segment_name\":\"t/1627911651/450000/480000/041902a_1656776035\"},\"480000\":{\"segment_start\":\"480000\",\"segment_name\":\"t/1627911651/480000/510000/041902a_1656776035\"},\"510000\":{\"segment_start\":\"510000\",\"segment_name\":\"t/1627911651/510000/540000/041902a_1656776035\"},\"540000\":{\"segment_start\":\"540000\",\"segment_name\":\"t/1627911651/540000/570000/041902a_1656776035\"},\"570000\":{\"segment_start\":\"570000\",\"segment_name\":\"t/1627911651/570000/600000/041902a_1656776035\"},\"600000\":{\"segment_start\":\"600000\",\"segment_name\":\"t/1627911651/600000/630000/041902a_1656776035\"},\"630000\":{\"segment_start\":\"630000\",\"segment_name\":\"t/1627911651/630000/660000/041902a_1656776035\"},\"660000\":{\"segment_start\":\"660000\",\"segment_name\":\"t/1627911651/660000/690000/041902a_1656776035\"},\"690000\":{\"segment_start\":\"690000\",\"segment_name\":\"t/1627911651/690000/720000/041902a_1656776035\"},\"720000\":{\"segment_start\":\"720000\",\"segment_name\":\"t/1627911651/720000/750000/041902a_1656776035\"},\"750000\":{\"segment_start\":\"750000\",\"segment_name\":\"t/1627911651/750000/780000/041902a_1656776035\"},\"780000\":{\"segment_start\":\"780000\",\"segment_name\":\"t/1627911651/780000/810000/041902a_1656776035\"},\"810000\":{\"segment_start\":\"810000\",\"segment_name\":\"t/1627911651/810000/840000/041902a_1656776035\"},\"840000\":{\"segment_start\":\"840000\",\"segment_name\":\"t/1627911651/840000/870000/041902a_1656776035\"},\"870000\":{\"segment_start\":\"870000\",\"segment_name\":\"t/1627911651/870000/900000/041902a_1656776035\"},\"900000\":{\"segment_start\":\"900000\",\"segment_name\":\"t/1627911651/900000/930000/041902a_1656776035\"},\"930000\":{\"segment_start\":\"930000\",\"segment_name\":\"t/1627911651/930000/960000/041902a_1656776035\"},\"960000\":{\"segment_start\":\"960000\",\"segment_name\":\"t/1627911651/960000/990000/041902a_1656776035\"},\"990000\":{\"segment_start\":\"990000\",\"segment_name\":\"t/1627911651/990000/1020000/041902a_1656776035\"},\"1020000\":{\"segment_start\":\"1020000\",\"segment_name\":\"t/1627911651/1020000/1050000/041902a_1656776035\"},\"1050000\":{\"segment_start\":\"1050000\",\"segment_name\":\"t/1627911651/1050000/1080000/041902a_1656776035\"},\"1080000\":{\"segment_start\":\"1080000\",\"segment_name\":\"t/1627911651/1080000/1110000/041902a_1656776035\"},\"1110000\":{\"segment_start\":\"1110000\",\"segment_name\":\"t/1627911651/1110000/1140000/041902a_1656776035\"},\"1140000\":{\"segment_start\":\"1140000\",\"segment_name\":\"t/1627911651/1140000/1170000/041902a_1656776035\"},\"1170000\":{\"segment_start\":\"1170000\",\"segment_name\":\"t/1627911651/1170000/1200000/041902a_1656776035\"},\"1200000\":{\"segment_start\":\"1200000\",\"segment_name\":\"t/1627911651/1200000/1230000/041902a_1656776035\"},\"1230000\":{\"segment_start\":\"1230000\",\"segment_name\":\"t/1627911651/1230000/1260000/041902a_1656776035\"},\"1260000\":{\"segment_start\":\"1260000\",\"segment_name\":\"t/1627911651/1260000/1290000/041902a_1656776035\"},\"1290000\":{\"segment_start\":\"1290000\",\"segment_name\":\"t/1627911651/1290000/1320000/041902a_1656776035\"},\"1320000\":{\"segment_start\":\"1320000\",\"segment_name\":\"t/1627911651/1320000/1350000/041902a_1656776035\"},\"1350000\":{\"segment_start\":\"1350000\",\"segment_name\":\"t/1627911651/1350000/1380000/041902a_1656776035\"},\"1380000\":{\"segment_start\":\"1380000\",\"segment_name\":\"t/1627911651/1380000/1410000/041902a_1656776035\"},\"1410000\":{\"segment_start\":\"1410000\",\"segment_name\":\"t/1627911651/1410000/1440000/041902a_1656776035\"},\"1440000\":{\"segment_start\":\"1440000\",\"segment_name\":\"t/1627911651/1440000/1470000/041902a_1656776035\"},\"1470000\":{\"segment_start\":\"1470000\",\"segment_name\":\"t/1627911651/1470000/1500000/041902a_1656776035\"},\"1500000\":{\"segment_start\":\"1500000\",\"segment_name\":\"t/1627911651/1500000/1530000/041902a_1656776035\"},\"1530000\":{\"segment_start\":\"1530000\",\"segment_name\":\"t/1627911651/1530000/1560000/041902a_1656776035\"},\"1560000\":{\"segment_start\":\"1560000\",\"segment_name\":\"t/1627911651/1560000/1590000/041902a_1656776035\"},\"1590000\":{\"segment_start\":\"1590000\",\"segment_name\":\"t/1627911651/1590000/1620000/041902a_1656776035\"},\"1620000\":{\"segment_start\":\"1620000\",\"segment_name\":\"t/1627911651/1620000/1650000/041902a_1656776035\"},\"1650000\":{\"segment_start\":\"1650000\",\"segment_name\":\"t/1627911651/1650000/1680000/041902a_1656776035\"},\"1680000\":{\"segment_start\":\"1680000\",\"segment_name\":\"t/1627911651/1680000/1710000/041902a_1656776035\"},\"1710000\":{\"segment_start\":\"1710000\",\"segment_name\":\"t/1627911651/1710000/1740000/041902a_1656776035\"},\"1740000\":{\"segment_start\":\"1740000\",\"segment_name\":\"t/1627911651/1740000/1770000/041902a_1656776035\"},\"1770000\":{\"segment_start\":\"1770000\",\"segment_name\":\"t/1627911651/1770000/1800000/041902a_1656776035\"},\"1800000\":{\"segment_start\":\"1800000\",\"segment_name\":\"t/1627911651/1800000/1830000/041902a_1656776035\"},\"1830000\":{\"segment_start\":\"1830000\",\"segment_name\":\"t/1627911651/1830000/1860000/041902a_1656776035\"},\"1860000\":{\"segment_start\":\"1860000\",\"segment_name\":\"t/1627911651/1860000/1890000/041902a_1656776035\"},\"1890000\":{\"segment_start\":\"1890000\",\"segment_name\":\"t/1627911651/1890000/1920000/041902a_1656776035\"},\"1920000\":{\"segment_start\":\"1920000\",\"segment_name\":\"t/1627911651/1920000/1950000/041902a_1656776035\"},\"1950000\":{\"segment_start\":\"1950000\",\"segment_name\":\"t/1627911651/1950000/1980000/041902a_1656776035\"},\"1980000\":{\"segment_start\":\"1980000\",\"segment_name\":\"t/1627911651/1980000/2010000/041902a_1656776035\"},\"2010000\":{\"segment_start\":\"2010000\",\"segment_name\":\"t/1627911651/2010000/2040000/041902a_1656776035\"},\"2040000\":{\"segment_start\":\"2040000\",\"segment_name\":\"t/1627911651/2040000/2070000/041902a_1656776035\"},\"2070000\":{\"segment_start\":\"2070000\",\"segment_name\":\"t/1627911651/2070000/2100000/041902a_1656776035\"},\"2100000\":{\"segment_start\":\"2100000\",\"segment_name\":\"t/1627911651/2100000/2130000/041902a_1656776035\"},\"2130000\":{\"segment_start\":\"2130000\",\"segment_name\":\"t/1627911651/2130000/2160000/041902a_1656776035\"},\"2160000\":{\"segment_start\":\"2160000\",\"segment_name\":\"t/1627911651/2160000/2190000/041902a_1656776035\"},\"2190000\":{\"segment_start\":\"2190000\",\"segment_name\":\"t/1627911651/2190000/2220000/041902a_1656776035\"},\"2220000\":{\"segment_start\":\"2220000\",\"segment_name\":\"t/1627911651/2220000/2250000/041902a_1656776035\"},\"2250000\":{\"segment_start\":\"2250000\",\"segment_name\":\"t/1627911651/2250000/2280000/041902a_1656776035\"},\"2280000\":{\"segment_start\":\"2280000\",\"segment_name\":\"t/1627911651/2280000/2310000/041902a_1656776035\"},\"2310000\":{\"segment_start\":\"2310000\",\"segment_name\":\"t/1627911651/2310000/2340000/041902a_1656776035\"},\"2340000\":{\"segment_start\":\"2340000\",\"segment_name\":\"t/1627911651/2340000/2370000/041902a_1656776035\"},\"2370000\":{\"segment_start\":\"2370000\",\"segment_name\":\"t/1627911651/2370000/2400000/041902a_1656776035\"},\"2400000\":{\"segment_start\":\"2400000\",\"segment_name\":\"t/1627911651/2400000/2430000/041902a_1656776035\"},\"2430000\":{\"segment_start\":\"2430000\",\"segment_name\":\"t/1627911651/2430000/2460000/041902a_1656776035\"},\"2460000\":{\"segment_start\":\"2460000\",\"segment_name\":\"t/1627911651/2460000/2490000/041902a_1656776035\"},\"2490000\":{\"segment_start\":\"2490000\",\"segment_name\":\"t/1627911651/2490000/2520000/041902a_1656776035\"},\"2520000\":{\"segment_start\":\"2520000\",\"segment_name\":\"t/1627911651/2520000/2550000/041902a_1656776035\"},\"2550000\":{\"segment_start\":\"2550000\",\"segment_name\":\"t/1627911651/2550000/2580000/041902a_1656776035\"},\"2580000\":{\"segment_start\":\"2580000\",\"segment_name\":\"t/1627911651/2580000/2610000/041902a_1656776035\"},\"2610000\":{\"segment_start\":\"2610000\",\"segment_name\":\"t/1627911651/2610000/2640000/041902a_1656776035\"},\"2640000\":{\"segment_start\":\"2640000\",\"segment_name\":\"t/1627911651/2640000/2670000/041902a_1656776035\"},\"2670000\":{\"segment_start\":\"2670000\",\"segment_name\":\"t/1627911651/2670000/2700000/041902a_1656776035\"},\"2700000\":{\"segment_start\":\"2700000\",\"segment_name\":\"t/1627911651/2700000/2730000/041902a_1656776035\"},\"2730000\":{\"segment_start\":\"2730000\",\"segment_name\":\"t/1627911651/2730000/2760000/041902a_1656776035\"},\"2760000\":{\"segment_start\":\"2760000\",\"segment_name\":\"t/1627911651/2760000/2790000/041902a_1656776035\"},\"2790000\":{\"segment_start\":\"2790000\",\"segment_name\":\"t/1627911651/2790000/2820000/041902a_1656776035\"},\"2820000\":{\"segment_start\":\"2820000\",\"segment_name\":\"t/1627911651/2820000/2850000/041902a_1656776035\"},\"2850000\":{\"segment_start\":\"2850000\",\"segment_name\":\"t/1627911651/2850000/2880000/041902a_1656776035\"},\"2880000\":{\"segment_start\":\"2880000\",\"segment_name\":\"t/1627911651/2880000/2910000/041902a_1656776035\"},\"2910000\":{\"segment_start\":\"2910000\",\"segment_name\":\"t/1627911651/2910000/2940000/041902a_1656776035\"},\"2940000\":{\"segment_start\":\"2940000\",\"segment_name\":\"t/1627911651/2940000/2970000/041902a_1656776035\"},\"2970000\":{\"segment_start\":\"2970000\",\"segment_name\":\"t/1627911651/2970000/3000000/041902a_1656776035\"},\"3000000\":{\"segment_start\":\"3000000\",\"segment_name\":\"t/1627911651/3000000/3030000/041902a_1656776035\"},\"3030000\":{\"segment_start\":\"3030000\",\"segment_name\":\"t/1627911651/3030000/3060000/041902a_1656776035\"},\"3060000\":{\"segment_start\":\"3060000\",\"segment_name\":\"t/1627911651/3060000/3090000/041902a_1656776035\"},\"3090000\":{\"segment_start\":\"3090000\",\"segment_name\":\"t/1627911651/3090000/3120000/041902a_1656776035\"},\"3120000\":{\"segment_start\":\"3120000\",\"segment_name\":\"t/1627911651/3120000/3150000/041902a_1656776035\"},\"3150000\":{\"segment_start\":\"3150000\",\"segment_name\":\"t/1627911651/3150000/3180000/041902a_1656776035\"},\"3180000\":{\"segment_start\":\"3180000\",\"segment_name\":\"t/1627911651/3180000/3210000/041902a_1656776035\"},\"3210000\":{\"segment_start\":\"3210000\",\"segment_name\":\"t/1627911651/3210000/3240000/041902a_1656776035\"},\"3240000\":{\"segment_start\":\"3240000\",\"segment_name\":\"t/1627911651/3240000/3270000/041902a_1656776035\"},\"3270000\":{\"segment_start\":\"3270000\",\"segment_name\":\"t/1627911651/3270000/3300000/041902a_1656776035\"},\"3300000\":{\"segment_start\":\"3300000\",\"segment_name\":\"t/1627911651/3300000/3330000/041902a_1656776035\"},\"3330000\":{\"segment_start\":\"3330000\",\"segment_name\":\"t/1627911651/3330000/3360000/041902a_1656776035\"},\"3360000\":{\"segment_start\":\"3360000\",\"segment_name\":\"t/1627911651/3360000/3390000/041902a_1656776035\"},\"3390000\":{\"segment_start\":\"3390000\",\"segment_name\":\"t/1627911651/3390000/3420000/041902a_1656776035\"},\"3420000\":{\"segment_start\":\"3420000\",\"segment_name\":\"t/1627911651/3420000/3450000/041902a_1656776035\"},\"3450000\":{\"segment_start\":\"3450000\",\"segment_name\":\"t/1627911651/3450000/3480000/041902a_1656776035\"},\"3480000\":{\"segment_start\":\"3480000\",\"segment_name\":\"t/1627911651/3480000/3510000/041902a_1656776035\"},\"3510000\":{\"segment_start\":\"3510000\",\"segment_name\":\"t/1627911651/3510000/3540000/041902a_1656776035\"},\"3540000\":{\"segment_start\":\"3540000\",\"segment_name\":\"t/1627911651/3540000/3570000/041902a_1656776035\"},\"3570000\":{\"segment_start\":\"3570000\",\"segment_name\":\"t/1627911651/3570000/3600000/041902a_1656776035\"},\"3600000\":{\"segment_start\":\"3600000\",\"segment_name\":\"t/1627911651/3600000/3630000/041902a_1656776035\"},\"3630000\":{\"segment_start\":\"3630000\",\"segment_name\":\"t/1627911651/3630000/3660000/041902a_1656776035\"},\"3660000\":{\"segment_start\":\"3660000\",\"segment_name\":\"t/1627911651/3660000/3690000/041902a_1656776035\"},\"3690000\":{\"segment_start\":\"3690000\",\"segment_name\":\"t/1627911651/3690000/3720000/041902a_1656776035\"},\"3720000\":{\"segment_start\":\"3720000\",\"segment_name\":\"t/1627911651/3720000/3750000/041902a_1656776035\"},\"3750000\":{\"segment_start\":\"3750000\",\"segment_name\":\"t/1627911651/3750000/3780000/041902a_1656776035\"},\"3780000\":{\"segment_start\":\"3780000\",\"segment_name\":\"t/1627911651/3780000/3810000/041902a_1656776035\"},\"3810000\":{\"segment_start\":\"3810000\",\"segment_name\":\"t/1627911651/3810000/3840000/041902a_1656776035\"},\"3840000\":{\"segment_start\":\"3840000\",\"segment_name\":\"t/1627911651/3840000/3870000/041902a_1656776035\"},\"3870000\":{\"segment_start\":\"3870000\",\"segment_name\":\"t/1627911651/3870000/3900000/041902a_1656776035\"},\"3900000\":{\"segment_start\":\"3900000\",\"segment_name\":\"t/1627911651/3900000/3930000/041902a_1656776035\"},\"3930000\":{\"segment_start\":\"3930000\",\"segment_name\":\"t/1627911651/3930000/3960000/041902a_1656776035\"},\"3960000\":{\"segment_start\":\"3960000\",\"segment_name\":\"t/1627911651/3960000/3990000/041902a_1656776035\"},\"3990000\":{\"segment_start\":\"3990000\",\"segment_name\":\"t/1627911651/3990000/4020000/041902a_1656776035\"},\"4020000\":{\"segment_start\":\"4020000\",\"segment_name\":\"t/1627911651/4020000/4050000/041902a_1656776035\"},\"4050000\":{\"segment_start\":\"4050000\",\"segment_name\":\"t/1627911651/4050000/4080000/041902a_1656776035\"},\"4080000\":{\"segment_start\":\"4080000\",\"segment_name\":\"t/1627911651/4080000/4110000/041902a_1656776035\"},\"4110000\":{\"segment_start\":\"4110000\",\"segment_name\":\"t/1627911651/4110000/4140000/041902a_1656776035\"},\"4140000\":{\"segment_start\":\"4140000\",\"segment_name\":\"t/1627911651/4140000/4170000/041902a_1656776035\"},\"4170000\":{\"segment_start\":\"4170000\",\"segment_name\":\"t/1627911651/4170000/4200000/041902a_1656776035\"},\"4200000\":{\"segment_start\":\"4200000\",\"segment_name\":\"t/1627911651/4200000/4230000/041902a_1656776035\"},\"4230000\":{\"segment_start\":\"4230000\",\"segment_name\":\"t/1627911651/4230000/4260000/041902a_1656776035\"},\"4260000\":{\"segment_start\":\"4260000\",\"segment_name\":\"t/1627911651/4260000/4290000/041902a_1656776035\"},\"4290000\":{\"segment_start\":\"4290000\",\"segment_name\":\"t/1627911651/4290000/4320000/041902a_1656776035\"},\"4320000\":{\"segment_start\":\"4320000\",\"segment_name\":\"t/1627911651/4320000/4350000/041902a_1656776035\"},\"4350000\":{\"segment_start\":\"4350000\",\"segment_name\":\"t/1627911651/4350000/4380000/041902a_1656776035\"},\"4380000\":{\"segment_start\":\"4380000\",\"segment_name\":\"t/1627911651/4380000/4410000/041902a_1656776035\"},\"4410000\":{\"segment_start\":\"4410000\",\"segment_name\":\"t/1627911651/4410000/4440000/041902a_1656776035\"},\"4440000\":{\"segment_start\":\"4440000\",\"segment_name\":\"t/1627911651/4440000/4470000/041902a_1656776035\"},\"4470000\":{\"segment_start\":\"4470000\",\"segment_name\":\"t/1627911651/4470000/4500000/041902a_1656776035\"},\"4500000\":{\"segment_start\":\"4500000\",\"segment_name\":\"t/1627911651/4500000/4530000/041902a_1656776035\"},\"4530000\":{\"segment_start\":\"4530000\",\"segment_name\":\"t/1627911651/4530000/4560000/041902a_1656776035\"},\"4560000\":{\"segment_start\":\"4560000\",\"segment_name\":\"t/1627911651/4560000/4590000/041902a_1656776035\"},\"4590000\":{\"segment_start\":\"4590000\",\"segment_name\":\"t/1627911651/4590000/4620000/041902a_1656776035\"},\"4620000\":{\"segment_start\":\"4620000\",\"segment_name\":\"t/1627911651/4620000/4650000/041902a_1656776035\"},\"4650000\":{\"segment_start\":\"4650000\",\"segment_name\":\"t/1627911651/4650000/4680000/041902a_1656776035\"},\"4680000\":{\"segment_start\":\"4680000\",\"segment_name\":\"t/1627911651/4680000/4710000/041902a_1656776035\"},\"4710000\":{\"segment_start\":\"4710000\",\"segment_name\":\"t/1627911651/4710000/4740000/041902a_1656776035\"},\"4740000\":{\"segment_start\":\"4740000\",\"segment_name\":\"t/1627911651/4740000/4770000/041902a_1656776035\"},\"4770000\":{\"segment_start\":\"4770000\",\"segment_name\":\"t/1627911651/4770000/4800000/041902a_1656776035\"},\"4800000\":{\"segment_start\":\"4800000\",\"segment_name\":\"t/1627911651/4800000/4830000/041902a_1656776035\"},\"4830000\":{\"segment_start\":\"4830000\",\"segment_name\":\"t/1627911651/4830000/4860000/041902a_1656776035\"},\"4860000\":{\"segment_start\":\"4860000\",\"segment_name\":\"t/1627911651/4860000/4890000/041902a_1656776035\"},\"4890000\":{\"segment_start\":\"4890000\",\"segment_name\":\"t/1627911651/4890000/4920000/041902a_1656776035\"},\"4920000\":{\"segment_start\":\"4920000\",\"segment_name\":\"t/1627911651/4920000/4950000/041902a_1656776035\"},\"4950000\":{\"segment_start\":\"4950000\",\"segment_name\":\"t/1627911651/4950000/4980000/041902a_1656776035\"},\"4980000\":{\"segment_start\":\"4980000\",\"segment_name\":\"t/1627911651/4980000/5010000/041902a_1656776035\"},\"5010000\":{\"segment_start\":\"5010000\",\"segment_name\":\"t/1627911651/5010000/5040000/041902a_1656776035\"},\"5040000\":{\"segment_start\":\"5040000\",\"segment_name\":\"t/1627911651/5040000/5070000/041902a_1656776035\"},\"5070000\":{\"segment_start\":\"5070000\",\"segment_name\":\"t/1627911651/5070000/5100000/041902a_1656776035\"},\"5100000\":{\"segment_start\":\"5100000\",\"segment_name\":\"t/1627911651/5100000/5130000/041902a_1656776035\"},\"5130000\":{\"segment_start\":\"5130000\",\"segment_name\":\"t/1627911651/5130000/5160000/041902a_1656776035\"},\"5160000\":{\"segment_start\":\"5160000\",\"segment_name\":\"t/1627911651/5160000/5190000/041902a_1656776035\"},\"5190000\":{\"segment_start\":\"5190000\",\"segment_name\":\"t/1627911651/5190000/5220000/041902a_1656776035\"},\"5220000\":{\"segment_start\":\"5220000\",\"segment_name\":\"t/1627911651/5220000/5250000/041902a_1656776035\"},\"5250000\":{\"segment_start\":\"5250000\",\"segment_name\":\"t/1627911651/5250000/5280000/041902a_1656776035\"},\"5280000\":{\"segment_start\":\"5280000\",\"segment_name\":\"t/1627911651/5280000/5310000/041902a_1656776035\"},\"5310000\":{\"segment_start\":\"5310000\",\"segment_name\":\"t/1627911651/5310000/5340000/041902a_1656776035\"},\"5340000\":{\"segment_start\":\"5340000\",\"segment_name\":\"t/1627911651/5340000/5370000/041902a_1656776035\"},\"5370000\":{\"segment_start\":\"5370000\",\"segment_name\":\"t/1627911651/5370000/5400000/041902a_1656776035\"},\"5400000\":{\"segment_start\":\"5400000\",\"segment_name\":\"t/1627911651/5400000/5430000/041902a_1656776035\"},\"5430000\":{\"segment_start\":\"5430000\",\"segment_name\":\"t/1627911651/5430000/5460000/041902a_1656776035\"},\"5460000\":{\"segment_start\":\"5460000\",\"segment_name\":\"t/1627911651/5460000/5490000/041902a_1656776035\"},\"5490000\":{\"segment_start\":\"5490000\",\"segment_name\":\"t/1627911651/5490000/5520000/041902a_1656776035\"},\"5520000\":{\"segment_start\":\"5520000\",\"segment_name\":\"t/1627911651/5520000/5550000/041902a_1656776035\"},\"5550000\":{\"segment_start\":\"5550000\",\"segment_name\":\"t/1627911651/5550000/5580000/041902a_1656776035\"},\"5580000\":{\"segment_start\":\"5580000\",\"segment_name\":\"t/1627911651/5580000/5610000/041902a_1656776035\"},\"5610000\":{\"segment_start\":\"5610000\",\"segment_name\":\"t/1627911651/5610000/5640000/041902a_1656776035\"},\"5640000\":{\"segment_start\":\"5640000\",\"segment_name\":\"t/1627911651/5640000/5670000/041902a_1656776035\"},\"5670000\":{\"segment_start\":\"5670000\",\"segment_name\":\"t/1627911651/5670000/5700000/041902a_1656776035\"},\"5700000\":{\"segment_start\":\"5700000\",\"segment_name\":\"t/1627911651/5700000/5730000/041902a_1656776035\"},\"5730000\":{\"segment_start\":\"5730000\",\"segment_name\":\"t/1627911651/5730000/5760000/041902a_1656776035\"},\"5760000\":{\"segment_start\":\"5760000\",\"segment_name\":\"t/1627911651/5760000/5790000/041902a_1656776035\"},\"5790000\":{\"segment_start\":\"5790000\",\"segment_name\":\"t/1627911651/5790000/5820000/041902a_1656776035\"},\"5820000\":{\"segment_start\":\"5820000\",\"segment_name\":\"t/1627911651/5820000/5850000/041902a_1656776035\"},\"5850000\":{\"segment_start\":\"5850000\",\"segment_name\":\"t/1627911651/5850000/5880000/041902a_1656776035\"},\"5880000\":{\"segment_start\":\"5880000\",\"segment_name\":\"t/1627911651/5880000/5910000/041902a_1656776035\"},\"5910000\":{\"segment_start\":\"5910000\",\"segment_name\":\"t/1627911651/5910000/5940000/041902a_1656776035\"},\"5940000\":{\"segment_start\":\"5940000\",\"segment_name\":\"t/1627911651/5940000/5970000/041902a_1656776035\"},\"5970000\":{\"segment_start\":\"5970000\",\"segment_name\":\"t/1627911651/5970000/6000000/041902a_1656776035\"},\"6000000\":{\"segment_start\":\"6000000\",\"segment_name\":\"t/1627911651/6000000/6030000/041902a_1656776035\"},\"6030000\":{\"segment_start\":\"6030000\",\"segment_name\":\"t/1627911651/6030000/6060000/041902a_1656776035\"},\"6060000\":{\"segment_start\":\"6060000\",\"segment_name\":\"t/1627911651/6060000/6090000/041902a_1656776035\"},\"6090000\":{\"segment_start\":\"6090000\",\"segment_name\":\"t/1627911651/6090000/6120000/041902a_1656776035\"},\"6120000\":{\"segment_start\":\"6120000\",\"segment_name\":\"t/1627911651/6120000/6150000/041902a_1656776035\"},\"6150000\":{\"segment_start\":\"6150000\",\"segment_name\":\"t/1627911651/6150000/6180000/041902a_1656776035\"},\"6180000\":{\"segment_start\":\"6180000\",\"segment_name\":\"t/1627911651/6180000/6210000/041902a_1656776035\"},\"6210000\":{\"segment_start\":\"6210000\",\"segment_name\":\"t/1627911651/6210000/6240000/041902a_1656776035\"},\"6240000\":{\"segment_start\":\"6240000\",\"segment_name\":\"t/1627911651/6240000/6270000/041902a_1656776035\"},\"6270000\":{\"segment_start\":\"6270000\",\"segment_name\":\"t/1627911651/6270000/6300000/041902a_1656776035\"},\"6300000\":{\"segment_start\":\"6300000\",\"segment_name\":\"t/1627911651/6300000/6330000/041902a_1656776035\"},\"6330000\":{\"segment_start\":\"6330000\",\"segment_name\":\"t/1627911651/6330000/6360000/041902a_1656776035\"},\"6360000\":{\"segment_start\":\"6360000\",\"segment_name\":\"t/1627911651/6360000/6390000/041902a_1656776035\"},\"6390000\":{\"segment_start\":\"6390000\",\"segment_name\":\"t/1627911651/6390000/6420000/041902a_1656776035\"},\"6420000\":{\"segment_start\":\"6420000\",\"segment_name\":\"t/1627911651/6420000/6450000/041902a_1656776035\"},\"6450000\":{\"segment_start\":\"6450000\",\"segment_name\":\"t/1627911651/6450000/6480000/041902a_1656776035\"},\"6480000\":{\"segment_start\":\"6480000\",\"segment_name\":\"t/1627911651/6480000/6510000/041902a_1656776035\"},\"6510000\":{\"segment_start\":\"6510000\",\"segment_name\":\"t/1627911651/6510000/6540000/041902a_1656776035\"},\"6540000\":{\"segment_start\":\"6540000\",\"segment_name\":\"t/1627911651/6540000/6570000/041902a_1656776035\"},\"6570000\":{\"segment_start\":\"6570000\",\"segment_name\":\"t/1627911651/6570000/6600000/041902a_1656776035\"}}"
   ]
  },
  {
   "cell_type": "code",
   "execution_count": 4,
   "metadata": {},
   "outputs": [
    {
     "data": {
      "text/plain": [
       "'t/1627911651/0/30000/041902a_1656776035'"
      ]
     },
     "execution_count": 4,
     "metadata": {},
     "output_type": "execute_result"
    }
   ],
   "source": [
    "qq_time_dic[\"0\"][\"segment_name\"]"
   ]
  },
  {
   "cell_type": "code",
   "execution_count": 5,
   "metadata": {},
   "outputs": [
    {
     "data": {
      "text/plain": [
       "'t/1627911651/6570000/6600000/041902a_1656776035'"
      ]
     },
     "execution_count": 5,
     "metadata": {},
     "output_type": "execute_result"
    }
   ],
   "source": [
    "qq_time_dic[\"6570000\"][\"segment_name\"]"
   ]
  },
  {
   "cell_type": "code",
   "execution_count": 6,
   "metadata": {},
   "outputs": [
    {
     "name": "stdout",
     "output_type": "stream",
     "text": [
      "****************************************************************************************************************************************************************************************************************************"
     ]
    }
   ],
   "source": [
    "qq_danmu = []\n",
    "for i in range(0,6570001,30000):\n",
    "    url = danmu_template + qq_time_dic[str(i)][\"segment_name\"]\n",
    "    # 假装浏览器\n",
    "    header ={\n",
    "        'User-Agent':'Mozilla/5.0 (Windows NT 10.0; Win64; x64) AppleWebKit/537.36 (KHTML, like Gecko) Chrome/98.0.4758.80 Safari/537.36 Edg/98.0.1108.43'\n",
    "    }\n",
    "\n",
    "    # 发送请求\n",
    "    req = requests.get(url = url, headers=header)\n",
    "    # 获取内容响应的内容\n",
    "    html_byte = req.content\n",
    "    # 将byte转为str\n",
    "    # html_str = str(html_byte,\"utf-8\")\n",
    "    data=json.loads(html_byte)\n",
    "    for i in range(len(data['barrage_list'])):\n",
    "        # total_danmu = len(hp_qq_danmu)\n",
    "        # hp_qq_danmu[total_danmu]=data['barrage_list'][i]['content']\n",
    "        qq_danmu.append(data['barrage_list'][i]['content'])\n",
    "    print(\"*\",end=\"\")\n"
   ]
  },
  {
   "cell_type": "code",
   "execution_count": 7,
   "metadata": {},
   "outputs": [
    {
     "data": {
      "text/plain": [
       "47036"
      ]
     },
     "execution_count": 7,
     "metadata": {},
     "output_type": "execute_result"
    }
   ],
   "source": [
    "len(qq_danmu)"
   ]
  },
  {
   "cell_type": "markdown",
   "metadata": {},
   "source": [
    "## 弹幕分析"
   ]
  },
  {
   "cell_type": "markdown",
   "metadata": {},
   "source": [
    "### 初始化"
   ]
  },
  {
   "cell_type": "code",
   "execution_count": 8,
   "metadata": {},
   "outputs": [
    {
     "data": {
      "text/plain": [
       "['2022年了，我还在无限刷前四季。',\n",
       " '2022年。五月二十想他们的一天[超越][超越][超越]',\n",
       " ' 第六季回来的。第六季是真的烂，就说犯规两个字我就弃了',\n",
       " '还是老版好看有帅雷雷老狐狸青岛大婶',\n",
       " '明天第六季了，没有孙漂亮和黄渤，我来重温经典',\n",
       " '支持黄渤。孙红雷。超爱你们。',\n",
       " '有妹子没',\n",
       " '怀念老鸡条',\n",
       " '别弹目',\n",
       " '好看吗']"
      ]
     },
     "execution_count": 8,
     "metadata": {},
     "output_type": "execute_result"
    }
   ],
   "source": [
    "qq_danmu[:10]"
   ]
  },
  {
   "cell_type": "code",
   "execution_count": 9,
   "metadata": {},
   "outputs": [],
   "source": [
    "qq_dic ={\"contents\" : qq_danmu}"
   ]
  },
  {
   "cell_type": "code",
   "execution_count": 10,
   "metadata": {},
   "outputs": [],
   "source": [
    "df = pd.DataFrame(qq_dic)"
   ]
  },
  {
   "cell_type": "code",
   "execution_count": 11,
   "metadata": {},
   "outputs": [
    {
     "data": {
      "text/plain": [
       "0                   2022年了，我还在无限刷前四季。\n",
       "1        2022年。五月二十想他们的一天[超越][超越][超越]\n",
       "2          第六季回来的。第六季是真的烂，就说犯规两个字我就弃了\n",
       "3                   还是老版好看有帅雷雷老狐狸青岛大婶\n",
       "4              明天第六季了，没有孙漂亮和黄渤，我来重温经典\n",
       "                     ...             \n",
       "47031                  依艺兴的性格也是不可能叛变的\n",
       "47032                     喷艺兴的，你们的脸呢？\n",
       "47033                            喜欢艺兴\n",
       "47034                        你们说话太难听了\n",
       "47035                          原版是韩国的\n",
       "Name: contents, Length: 47036, dtype: object"
      ]
     },
     "execution_count": 11,
     "metadata": {},
     "output_type": "execute_result"
    }
   ],
   "source": [
    "df[\"contents\"]"
   ]
  },
  {
   "cell_type": "code",
   "execution_count": 51,
   "metadata": {},
   "outputs": [],
   "source": [
    "qq_df = df.sample(n=9600)"
   ]
  },
  {
   "cell_type": "markdown",
   "metadata": {},
   "source": [
    "### 最多弹幕"
   ]
  },
  {
   "cell_type": "code",
   "execution_count": 52,
   "metadata": {},
   "outputs": [
    {
     "data": {
      "text/plain": [
       "contents\n",
       "哈哈          50\n",
       "哈哈哈         45\n",
       "哈哈哈哈        26\n",
       "笑死我了        21\n",
       "哈哈哈哈哈       16\n",
       "王自健         14\n",
       "时间管理大师      12\n",
       "哈哈哈哈哈哈      12\n",
       "艺兴太可爱了      11\n",
       "有           11\n",
       "呵呵          10\n",
       "好看          10\n",
       "笑死了          9\n",
       "张艺兴          9\n",
       "哈哈哈哈哈哈哈      9\n",
       "艺兴好可爱        9\n",
       "1            9\n",
       "哈哈哈哈哈哈哈哈     9\n",
       "时间管理者        8\n",
       "醉了           8\n",
       "dtype: int64"
      ]
     },
     "execution_count": 52,
     "metadata": {},
     "output_type": "execute_result"
    }
   ],
   "source": [
    "qq_df.value_counts()[:20]"
   ]
  },
  {
   "cell_type": "code",
   "execution_count": 53,
   "metadata": {},
   "outputs": [],
   "source": [
    "# 限定弹幕数量\n",
    "# qq_df.sample(n=10000).value_counts()[:20]"
   ]
  },
  {
   "cell_type": "markdown",
   "metadata": {},
   "source": [
    "### 词频分析\n",
    "部分结果在 jixian_qq_result.txt"
   ]
  },
  {
   "cell_type": "code",
   "execution_count": 54,
   "metadata": {},
   "outputs": [],
   "source": [
    "# 加载自定义词表\n",
    "# jieba.load_userdict(\"哈利波特词表.txt\")"
   ]
  },
  {
   "cell_type": "code",
   "execution_count": 91,
   "metadata": {},
   "outputs": [],
   "source": [
    "# test on jieba\n",
    "qq_all_danmu_text=' '\n",
    "for i in qq_df['contents']:\n",
    "    qq_all_danmu_text += i+' '\n",
    "a = jieba.lcut(qq_all_danmu_text, cut_all=False)\n"
   ]
  },
  {
   "cell_type": "code",
   "execution_count": 92,
   "metadata": {},
   "outputs": [],
   "source": [
    "counts={}\n",
    "for word in a:\n",
    "    counts[word] = counts.get(word,0)+1"
   ]
  },
  {
   "cell_type": "code",
   "execution_count": 93,
   "metadata": {},
   "outputs": [
    {
     "name": "stdout",
     "output_type": "stream",
     "text": [
      "!\n"
     ]
    }
   ],
   "source": [
    "# excludes = {\"，\",\"：\",\"“\",\"。\",\"”\",\"、\",\"；\",\"！\",\"？\",\".\"}\n",
    "excludes=[]\n",
    "tingyongci = open(\"停用词.txt\",'r')\n",
    "print(tingyongci.readline()[:-1])\n",
    "for i in tingyongci.readlines():\n",
    "    excludes.append(i[:-1])\n",
    "for word in excludes:\n",
    "    try:\n",
    "        del counts[word]\n",
    "    except:\n",
    "        pass"
   ]
  },
  {
   "cell_type": "code",
   "execution_count": 94,
   "metadata": {},
   "outputs": [],
   "source": [
    "items = list(counts.items())\n",
    "items.sort(key=lambda x:x[1],reverse = True)"
   ]
  },
  {
   "cell_type": "code",
   "execution_count": 95,
   "metadata": {},
   "outputs": [],
   "source": [
    "hp_qq_result = open(\"jixian_qq_result.txt\",\"w\")\n",
    "for i in range(200):\n",
    "    word, count = items[i]\n",
    "    hp_qq_result.writelines(\"{0:<10}{1:>5}\\n\".format(word,count))\n",
    "hp_qq_result.close()"
   ]
  },
  {
   "cell_type": "code",
   "execution_count": 96,
   "metadata": {},
   "outputs": [
    {
     "name": "stdout",
     "output_type": "stream",
     "text": [
      "314\n"
     ]
    }
   ],
   "source": [
    "#特定词出现频率\n",
    "test_word = \"哈哈\"\n",
    "\n",
    "count=0\n",
    "for i in qq_df.sample(n=4000)[\"contents\"]:\n",
    "    if test_word in i:\n",
    "        count+=1\n",
    "print(count)\n",
    "# 下一步用语义分析分析情感"
   ]
  },
  {
   "cell_type": "markdown",
   "metadata": {},
   "source": [
    "### 情感分析"
   ]
  },
  {
   "cell_type": "code",
   "execution_count": 97,
   "metadata": {},
   "outputs": [],
   "source": [
    "from snownlp import SnowNLP"
   ]
  },
  {
   "cell_type": "code",
   "execution_count": 98,
   "metadata": {},
   "outputs": [
    {
     "data": {
      "text/html": [
       "<div>\n",
       "<style scoped>\n",
       "    .dataframe tbody tr th:only-of-type {\n",
       "        vertical-align: middle;\n",
       "    }\n",
       "\n",
       "    .dataframe tbody tr th {\n",
       "        vertical-align: top;\n",
       "    }\n",
       "\n",
       "    .dataframe thead th {\n",
       "        text-align: right;\n",
       "    }\n",
       "</style>\n",
       "<table border=\"1\" class=\"dataframe\">\n",
       "  <thead>\n",
       "    <tr style=\"text-align: right;\">\n",
       "      <th></th>\n",
       "      <th>contents</th>\n",
       "      <th>emotion</th>\n",
       "    </tr>\n",
       "  </thead>\n",
       "  <tbody>\n",
       "    <tr>\n",
       "      <th>21440</th>\n",
       "      <td>用眼镜摄像</td>\n",
       "      <td>0.380687</td>\n",
       "    </tr>\n",
       "    <tr>\n",
       "      <th>16973</th>\n",
       "      <td>好像现在的健康码哈哈哈哈</td>\n",
       "      <td>0.925382</td>\n",
       "    </tr>\n",
       "    <tr>\n",
       "      <th>30970</th>\n",
       "      <td>这样危险真的好吗？</td>\n",
       "      <td>0.795246</td>\n",
       "    </tr>\n",
       "    <tr>\n",
       "      <th>42912</th>\n",
       "      <td>就是游戏而已才能体现出张艺兴这么能装</td>\n",
       "      <td>0.354080</td>\n",
       "    </tr>\n",
       "    <tr>\n",
       "      <th>33113</th>\n",
       "      <td>buyaolian</td>\n",
       "      <td>0.500000</td>\n",
       "    </tr>\n",
       "  </tbody>\n",
       "</table>\n",
       "</div>"
      ],
      "text/plain": [
       "                 contents   emotion\n",
       "21440               用眼镜摄像  0.380687\n",
       "16973        好像现在的健康码哈哈哈哈  0.925382\n",
       "30970           这样危险真的好吗？  0.795246\n",
       "42912  就是游戏而已才能体现出张艺兴这么能装  0.354080\n",
       "33113          buyaolian   0.500000"
      ]
     },
     "execution_count": 98,
     "metadata": {},
     "output_type": "execute_result"
    }
   ],
   "source": [
    "qq_df['emotion'] = qq_df['contents'].apply(lambda x: SnowNLP(x).sentiments)\n",
    "qq_df.head()"
   ]
  },
  {
   "cell_type": "code",
   "execution_count": 99,
   "metadata": {},
   "outputs": [
    {
     "data": {
      "text/plain": [
       "count    9.600000e+03\n",
       "mean     5.638480e-01\n",
       "std      2.900538e-01\n",
       "min      8.316209e-08\n",
       "25%      3.415037e-01\n",
       "50%      5.450314e-01\n",
       "75%      8.294732e-01\n",
       "max      1.000000e+00\n",
       "Name: emotion, dtype: float64"
      ]
     },
     "execution_count": 99,
     "metadata": {},
     "output_type": "execute_result"
    }
   ],
   "source": [
    "qq_df['emotion'].describe()"
   ]
  },
  {
   "cell_type": "code",
   "execution_count": 117,
   "metadata": {},
   "outputs": [
    {
     "data": {
      "image/png": "[encoded data removed]",
      "text/plain": [
       "<Figure size 432x288 with 1 Axes>"
      ]
     },
     "metadata": {
      "needs_background": "light"
     },
     "output_type": "display_data"
    }
   ],
   "source": [
    "#  绘制情感分直方图\n",
    "plt.rcParams['font.sans-serif'] = ['SimHei']\n",
    "plt.rcParams['axes.unicode_minus'] = False\n",
    "\n",
    "bins = np.arange(0, 1.1, 0.1)\n",
    "plt.hist(qq_df['emotion'], bins, color = '#4F94CD', alpha=0.9)\n",
    "plt.xlim(0, 1)\n",
    "plt.xlabel('emotion score (higher score means more positive emotion)')\n",
    "plt.ylabel('count')\n",
    "plt.title('Go Fighting! bullet screen on tencent videos')\n",
    "plt.show()"
   ]
  },
  {
   "cell_type": "code",
   "execution_count": 101,
   "metadata": {},
   "outputs": [
    {
     "data": {
      "text/plain": [
       "[('艺兴', 0.24210771335619422),\n",
       " ('张艺兴', 0.22173231173710858),\n",
       " ('哈哈哈', 0.19897758700733748),\n",
       " ('王迅', 0.11705867989004111),\n",
       " ('小猪', 0.10987341004022325),\n",
       " ('2020', 0.09708279594976105),\n",
       " ('哈哈哈哈', 0.07711942110597333),\n",
       " ('好看', 0.06930356167253116),\n",
       " ('哈哈', 0.06848718222587308),\n",
       " ('黄磊', 0.06831752307575778)]"
      ]
     },
     "execution_count": 101,
     "metadata": {},
     "output_type": "execute_result"
    }
   ],
   "source": [
    "key_words = jieba.analyse.extract_tags(sentence=qq_all_danmu_text, topK=10, withWeight=True, allowPOS=())\n",
    "key_words"
   ]
  },
  {
   "cell_type": "code",
   "execution_count": 102,
   "metadata": {},
   "outputs": [
    {
     "data": {
      "text/html": [
       "<div>\n",
       "<style scoped>\n",
       "    .dataframe tbody tr th:only-of-type {\n",
       "        vertical-align: middle;\n",
       "    }\n",
       "\n",
       "    .dataframe tbody tr th {\n",
       "        vertical-align: top;\n",
       "    }\n",
       "\n",
       "    .dataframe thead th {\n",
       "        text-align: right;\n",
       "    }\n",
       "</style>\n",
       "<table border=\"1\" class=\"dataframe\">\n",
       "  <thead>\n",
       "    <tr style=\"text-align: right;\">\n",
       "      <th></th>\n",
       "      <th>contents</th>\n",
       "      <th>emotion</th>\n",
       "    </tr>\n",
       "  </thead>\n",
       "  <tbody>\n",
       "    <tr>\n",
       "      <th>34565</th>\n",
       "      <td>整天来着骂人真没必要，骂再多也是你最菜的</td>\n",
       "      <td>0.024979</td>\n",
       "    </tr>\n",
       "    <tr>\n",
       "      <th>24734</th>\n",
       "      <td>黄渤太逗了</td>\n",
       "      <td>0.076660</td>\n",
       "    </tr>\n",
       "    <tr>\n",
       "      <th>8434</th>\n",
       "      <td>感觉他还没睡</td>\n",
       "      <td>0.195046</td>\n",
       "    </tr>\n",
       "    <tr>\n",
       "      <th>42846</th>\n",
       "      <td>艺兴太笨了</td>\n",
       "      <td>0.089279</td>\n",
       "    </tr>\n",
       "    <tr>\n",
       "      <th>21576</th>\n",
       "      <td>按叫醒的顺序来的啊</td>\n",
       "      <td>0.020986</td>\n",
       "    </tr>\n",
       "  </tbody>\n",
       "</table>\n",
       "</div>"
      ],
      "text/plain": [
       "                   contents   emotion\n",
       "34565  整天来着骂人真没必要，骂再多也是你最菜的  0.024979\n",
       "24734                 黄渤太逗了  0.076660\n",
       "8434                 感觉他还没睡  0.195046\n",
       "42846                 艺兴太笨了  0.089279\n",
       "21576             按叫醒的顺序来的啊  0.020986"
      ]
     },
     "execution_count": 102,
     "metadata": {},
     "output_type": "execute_result"
    }
   ],
   "source": [
    "df_bad=qq_df[qq_df['emotion']<0.2]\n",
    "df_bad.head()"
   ]
  },
  {
   "cell_type": "code",
   "execution_count": 121,
   "metadata": {},
   "outputs": [
    {
     "data": {
      "text/plain": [
       "[('张艺兴', 0.39373367546145993),\n",
       " ('艺兴', 0.1865054252185863),\n",
       " ('孙红雷', 0.14357882674243067),\n",
       " ('2022', 0.09210144455238829),\n",
       " ('2020', 0.09210144455238829),\n",
       " ('顺序', 0.08609453056352273),\n",
       " ('节目', 0.07556194906520801),\n",
       " ('摄像', 0.07393099647800461),\n",
       " ('2021', 0.06907608341429122),\n",
       " ('极限', 0.06536020263112288),\n",
       " ('黄渤', 0.0621684750728621),\n",
       " ('起床', 0.057480176396700694),\n",
       " ('叫醒', 0.05504384808875193),\n",
       " ('你们', 0.05467080304322034),\n",
       " ('黄磊', 0.050655794503813564),\n",
       " ('11', 0.050655794503813564),\n",
       " ('搞笑', 0.04869051689676426),\n",
       " ('智商', 0.0481942025918644),\n",
       " ('干嘛', 0.04635274568058167),\n",
       " ('骂人', 0.039914783522005004),\n",
       " ('就是', 0.038809327818459166),\n",
       " ('12', 0.03684057782095532),\n",
       " ('不是', 0.036496630809899844),\n",
       " ('镜头', 0.03481410427046418),\n",
       " ('太晃', 0.03453804170714561),\n",
       " ('这个', 0.03435405532078197),\n",
       " ('大哥', 0.03372488116501348),\n",
       " ('人家', 0.0326361607958205),\n",
       " ('时间', 0.03221516273706857),\n",
       " ('王迅', 0.029932969479526193),\n",
       " ('10', 0.029932969479526193),\n",
       " ('怎么', 0.02894206357791217),\n",
       " ('韩国', 0.02808297109073575),\n",
       " ('早上', 0.0278845258529661),\n",
       " ('20', 0.027630433365716488),\n",
       " ('23', 0.027630433365716488),\n",
       " ('现在', 0.02741427417134052),\n",
       " ('哈哈', 0.027326178712372882),\n",
       " ('打卡', 0.026040762159957626),\n",
       " ('知道', 0.026024593674884435),\n",
       " ('他们', 0.025691707971275037),\n",
       " ('不行', 0.025519208919661016),\n",
       " ('这么', 0.025410136049206472),\n",
       " ('太逗', 0.025327897251906782),\n",
       " ('太坏', 0.025204034002465334),\n",
       " ('不要', 0.02450241191883667),\n",
       " ('别人', 0.023664688644449153),\n",
       " ('喜欢', 0.02306516881036595),\n",
       " ('反锁', 0.022467883021186442),\n",
       " ('那么', 0.022153172364406778),\n",
       " ('钥匙', 0.02139511417178351),\n",
       " ('队友', 0.02107930918091102),\n",
       " ('红雷', 0.020722825024287364),\n",
       " ('盘子', 0.020617346404117873),\n",
       " ('节目组', 0.020350586242526964),\n",
       " ('挑战', 0.020316810080770416),\n",
       " ('什么', 0.01992299053757704),\n",
       " ('小猪', 0.01978850905620185),\n",
       " ('回来', 0.019576453863174113),\n",
       " ('头晕', 0.019311633761556243),\n",
       " ('分钟', 0.019282940991563947),\n",
       " ('红队', 0.01874128342912173),\n",
       " ('眼镜', 0.018466597090770417),\n",
       " ('逗死', 0.01842028891047766),\n",
       " ('模仿', 0.01821183583042373),\n",
       " ('没意思', 0.017846588335419876),\n",
       " ('真的', 0.017361301400215717),\n",
       " ('为啥', 0.01731054633262712),\n",
       " ('为什么', 0.01731014126853043),\n",
       " ('摄像机', 0.016521777387440293),\n",
       " ('综艺', 0.01652176243697997),\n",
       " ('后面', 0.01645197988302003),\n",
       " ('不好', 0.01638434090815678),\n",
       " ('不会', 0.016144588291918335),\n",
       " ('喷子', 0.016117752796667953),\n",
       " ('26', 0.016117752796667953),\n",
       " ('2019', 0.016117752796667953),\n",
       " ('27', 0.016117752796667953),\n",
       " ('24', 0.016117752796667953),\n",
       " ('厉害', 0.01600384340877504),\n",
       " ('太笨', 0.015937722028524653),\n",
       " ('人品', 0.015811630860889832),\n",
       " ('自己', 0.015606682043802002),\n",
       " ('那个', 0.015539531387503852),\n",
       " ('憨笑', 0.015283146776097843),\n",
       " ('男人帮', 0.015262939681895224),\n",
       " ('睡觉', 0.01489979500637712),\n",
       " ('好看', 0.014630641081567797),\n",
       " ('前面', 0.014231297267681048),\n",
       " ('真是', 0.01421382309965331),\n",
       " ('可以', 0.014177100210970725),\n",
       " ('打脸', 0.013815216682858244),\n",
       " ('综艺节目', 0.013815216682858244),\n",
       " ('看个', 0.013815216682858244),\n",
       " ('...', 0.013815216682858244),\n",
       " ('蓝队', 0.013815216682858244),\n",
       " ('重刷', 0.013815216682858244),\n",
       " ('脑子', 0.013754001967575116),\n",
       " ('看看', 0.01354695307161402),\n",
       " ('白眼', 0.013198888003582435)]"
      ]
     },
     "execution_count": 121,
     "metadata": {},
     "output_type": "execute_result"
    }
   ],
   "source": [
    "bad_text = ''\n",
    "for i in df_bad['contents']:\n",
    "    bad_text += i\n",
    "#消极评论关键词top10\n",
    "key_words = jieba.analyse.extract_tags(sentence=bad_text, topK=100, withWeight=True, allowPOS=())\n",
    "key_words"
   ]
  },
  {
   "cell_type": "code",
   "execution_count": 122,
   "metadata": {},
   "outputs": [
    {
     "data": {
      "text/html": [
       "<div>\n",
       "<style scoped>\n",
       "    .dataframe tbody tr th:only-of-type {\n",
       "        vertical-align: middle;\n",
       "    }\n",
       "\n",
       "    .dataframe tbody tr th {\n",
       "        vertical-align: top;\n",
       "    }\n",
       "\n",
       "    .dataframe thead th {\n",
       "        text-align: right;\n",
       "    }\n",
       "</style>\n",
       "<table border=\"1\" class=\"dataframe\">\n",
       "  <thead>\n",
       "    <tr style=\"text-align: right;\">\n",
       "      <th></th>\n",
       "      <th>contents</th>\n",
       "      <th>emotion</th>\n",
       "    </tr>\n",
       "  </thead>\n",
       "  <tbody>\n",
       "    <tr>\n",
       "      <th>17835</th>\n",
       "      <td>VIP :来自官方的吐槽，这智商偏偏抓的是黄磊，哈哈哈...</td>\n",
       "      <td>0.515868</td>\n",
       "    </tr>\n",
       "    <tr>\n",
       "      <th>6700</th>\n",
       "      <td>只有我一个VIP</td>\n",
       "      <td>0.183877</td>\n",
       "    </tr>\n",
       "    <tr>\n",
       "      <th>17398</th>\n",
       "      <td>尊贵的VIP已上线</td>\n",
       "      <td>0.146070</td>\n",
       "    </tr>\n",
       "    <tr>\n",
       "      <th>29453</th>\n",
       "      <td>VIP用蓝光看，老清晰了</td>\n",
       "      <td>0.821417</td>\n",
       "    </tr>\n",
       "    <tr>\n",
       "      <th>7537</th>\n",
       "      <td>VIP :从第四季过来的，你不是一个人。</td>\n",
       "      <td>0.475596</td>\n",
       "    </tr>\n",
       "    <tr>\n",
       "      <th>26403</th>\n",
       "      <td>VIP :三精三傻就是这么分出来的[6周年]</td>\n",
       "      <td>0.343479</td>\n",
       "    </tr>\n",
       "    <tr>\n",
       "      <th>17068</th>\n",
       "      <td>VIP :这时候还是小绵羊，后来就变成小狐狸了</td>\n",
       "      <td>0.739374</td>\n",
       "    </tr>\n",
       "    <tr>\n",
       "      <th>29763</th>\n",
       "      <td>VIP :孙红雷太有型啦！</td>\n",
       "      <td>0.047261</td>\n",
       "    </tr>\n",
       "    <tr>\n",
       "      <th>5242</th>\n",
       "      <td>前面VIP的，LV大势啊</td>\n",
       "      <td>0.519397</td>\n",
       "    </tr>\n",
       "    <tr>\n",
       "      <th>25857</th>\n",
       "      <td>VIP :神算子专属bgm</td>\n",
       "      <td>0.163138</td>\n",
       "    </tr>\n",
       "    <tr>\n",
       "      <th>5145</th>\n",
       "      <td>我是VIP</td>\n",
       "      <td>0.250000</td>\n",
       "    </tr>\n",
       "  </tbody>\n",
       "</table>\n",
       "</div>"
      ],
      "text/plain": [
       "                             contents   emotion\n",
       "17835  VIP :来自官方的吐槽，这智商偏偏抓的是黄磊，哈哈哈...  0.515868\n",
       "6700                         只有我一个VIP  0.183877\n",
       "17398                       尊贵的VIP已上线  0.146070\n",
       "29453                    VIP用蓝光看，老清晰了  0.821417\n",
       "7537             VIP :从第四季过来的，你不是一个人。  0.475596\n",
       "26403          VIP :三精三傻就是这么分出来的[6周年]  0.343479\n",
       "17068         VIP :这时候还是小绵羊，后来就变成小狐狸了  0.739374\n",
       "29763                   VIP :孙红雷太有型啦！  0.047261\n",
       "5242                     前面VIP的，LV大势啊  0.519397\n",
       "25857                   VIP :神算子专属bgm  0.163138\n",
       "5145                            我是VIP  0.250000"
      ]
     },
     "execution_count": 122,
     "metadata": {},
     "output_type": "execute_result"
    }
   ],
   "source": [
    "#接下来用刚才的消极词汇做搜索确认结果\n",
    "qq_df[qq_df['contents'].str.contains(\"VIP\")]"
   ]
  },
  {
   "cell_type": "code",
   "execution_count": 123,
   "metadata": {},
   "outputs": [
    {
     "data": {
      "text/html": [
       "<div>\n",
       "<style scoped>\n",
       "    .dataframe tbody tr th:only-of-type {\n",
       "        vertical-align: middle;\n",
       "    }\n",
       "\n",
       "    .dataframe tbody tr th {\n",
       "        vertical-align: top;\n",
       "    }\n",
       "\n",
       "    .dataframe thead th {\n",
       "        text-align: right;\n",
       "    }\n",
       "</style>\n",
       "<table border=\"1\" class=\"dataframe\">\n",
       "  <thead>\n",
       "    <tr style=\"text-align: right;\">\n",
       "      <th></th>\n",
       "      <th>contents</th>\n",
       "      <th>emotion</th>\n",
       "    </tr>\n",
       "  </thead>\n",
       "  <tbody>\n",
       "    <tr>\n",
       "      <th>1060</th>\n",
       "      <td>2022年3月21日 疫情早日好起来</td>\n",
       "      <td>0.064421</td>\n",
       "    </tr>\n",
       "    <tr>\n",
       "      <th>24645</th>\n",
       "      <td>2022年5月11日，疫情被关，重温综艺yyds 节目</td>\n",
       "      <td>0.121834</td>\n",
       "    </tr>\n",
       "    <tr>\n",
       "      <th>163</th>\n",
       "      <td>2022年2022年5月18打卡怀念没有疫情的那些年</td>\n",
       "      <td>0.517487</td>\n",
       "    </tr>\n",
       "    <tr>\n",
       "      <th>16208</th>\n",
       "      <td>那个时候还没有疫情</td>\n",
       "      <td>0.548818</td>\n",
       "    </tr>\n",
       "    <tr>\n",
       "      <th>14501</th>\n",
       "      <td>疫情期间，有时间看了</td>\n",
       "      <td>0.334133</td>\n",
       "    </tr>\n",
       "    <tr>\n",
       "      <th>5123</th>\n",
       "      <td>2022年4月14号，上海疫情严重，希望早点好起来！</td>\n",
       "      <td>0.378715</td>\n",
       "    </tr>\n",
       "    <tr>\n",
       "      <th>15048</th>\n",
       "      <td>2022.6.21夏至，四川成都，疫情很轻</td>\n",
       "      <td>0.749974</td>\n",
       "    </tr>\n",
       "    <tr>\n",
       "      <th>2629</th>\n",
       "      <td>2022年五月11号 希望疫情早点过去小猪早点复出</td>\n",
       "      <td>0.451093</td>\n",
       "    </tr>\n",
       "    <tr>\n",
       "      <th>14468</th>\n",
       "      <td>2023年疫情消失了吗</td>\n",
       "      <td>0.562255</td>\n",
       "    </tr>\n",
       "    <tr>\n",
       "      <th>13384</th>\n",
       "      <td>上海疫情爆发，回家上网课</td>\n",
       "      <td>0.908016</td>\n",
       "    </tr>\n",
       "    <tr>\n",
       "      <th>140</th>\n",
       "      <td>2022年4.23号重温旧梦，没有疫情的日子</td>\n",
       "      <td>0.935120</td>\n",
       "    </tr>\n",
       "    <tr>\n",
       "      <th>10400</th>\n",
       "      <td>2020.4.20 经历过疫情再回来重温</td>\n",
       "      <td>0.900178</td>\n",
       "    </tr>\n",
       "    <tr>\n",
       "      <th>24630</th>\n",
       "      <td>2021.5.24号，无数刷，疫情隔离中</td>\n",
       "      <td>0.188059</td>\n",
       "    </tr>\n",
       "    <tr>\n",
       "      <th>1559</th>\n",
       "      <td>2022年3月24日，因疫情原因，第4次再刷一遍</td>\n",
       "      <td>0.024086</td>\n",
       "    </tr>\n",
       "    <tr>\n",
       "      <th>16090</th>\n",
       "      <td>2022年4月10上海疫情·无聊的来刷一遍</td>\n",
       "      <td>0.024810</td>\n",
       "    </tr>\n",
       "    <tr>\n",
       "      <th>1784</th>\n",
       "      <td>洪水疫情，疫情洪水</td>\n",
       "      <td>0.421875</td>\n",
       "    </tr>\n",
       "    <tr>\n",
       "      <th>1023</th>\n",
       "      <td>有没有疫情期间在家第n次看极限挑战的</td>\n",
       "      <td>0.172900</td>\n",
       "    </tr>\n",
       "    <tr>\n",
       "      <th>1409</th>\n",
       "      <td>2022打卡 7年了 重温无数遍 希望疫情赶快过去</td>\n",
       "      <td>0.955602</td>\n",
       "    </tr>\n",
       "    <tr>\n",
       "      <th>13281</th>\n",
       "      <td>没有疫情的2015，不用戴口罩</td>\n",
       "      <td>0.658023</td>\n",
       "    </tr>\n",
       "    <tr>\n",
       "      <th>12705</th>\n",
       "      <td>20220525疫情还没结束</td>\n",
       "      <td>0.339647</td>\n",
       "    </tr>\n",
       "    <tr>\n",
       "      <th>23761</th>\n",
       "      <td>有疫情</td>\n",
       "      <td>0.500000</td>\n",
       "    </tr>\n",
       "    <tr>\n",
       "      <th>4901</th>\n",
       "      <td>2022被疫情关在家的我又来刷极挑了</td>\n",
       "      <td>0.273437</td>\n",
       "    </tr>\n",
       "    <tr>\n",
       "      <th>322</th>\n",
       "      <td>打卡，2020年，发生了疫情，请大家到时候注意安全</td>\n",
       "      <td>0.286577</td>\n",
       "    </tr>\n",
       "    <tr>\n",
       "      <th>14960</th>\n",
       "      <td>疫情封校不上课 没啥好看 只能重温极限了</td>\n",
       "      <td>0.888657</td>\n",
       "    </tr>\n",
       "    <tr>\n",
       "      <th>17505</th>\n",
       "      <td>有多少人是因为疫情过来的？</td>\n",
       "      <td>0.544346</td>\n",
       "    </tr>\n",
       "    <tr>\n",
       "      <th>13285</th>\n",
       "      <td>那时候还没有疫情 大家也不用戴口罩</td>\n",
       "      <td>0.722204</td>\n",
       "    </tr>\n",
       "    <tr>\n",
       "      <th>12657</th>\n",
       "      <td>那时还可以疫情 怀念呀</td>\n",
       "      <td>0.740079</td>\n",
       "    </tr>\n",
       "    <tr>\n",
       "      <th>1805</th>\n",
       "      <td>这里是二零二一年冬天疫情又开始了我在这重刷</td>\n",
       "      <td>0.425705</td>\n",
       "    </tr>\n",
       "    <tr>\n",
       "      <th>15895</th>\n",
       "      <td>这个时候多么好，没有疫情</td>\n",
       "      <td>0.728080</td>\n",
       "    </tr>\n",
       "    <tr>\n",
       "      <th>11963</th>\n",
       "      <td>这个时候真好，开心，健康，没有疫情😃😃😃😃</td>\n",
       "      <td>0.934134</td>\n",
       "    </tr>\n",
       "    <tr>\n",
       "      <th>1705</th>\n",
       "      <td>20220127疫情控制良好</td>\n",
       "      <td>0.480206</td>\n",
       "    </tr>\n",
       "    <tr>\n",
       "      <th>16152</th>\n",
       "      <td>这时候还没有疫情</td>\n",
       "      <td>0.135282</td>\n",
       "    </tr>\n",
       "    <tr>\n",
       "      <th>7733</th>\n",
       "      <td>我从2021回来的，现在疫情还在继续</td>\n",
       "      <td>0.459768</td>\n",
       "    </tr>\n",
       "  </tbody>\n",
       "</table>\n",
       "</div>"
      ],
      "text/plain": [
       "                          contents   emotion\n",
       "1060            2022年3月21日 疫情早日好起来  0.064421\n",
       "24645  2022年5月11日，疫情被关，重温综艺yyds 节目  0.121834\n",
       "163     2022年2022年5月18打卡怀念没有疫情的那些年  0.517487\n",
       "16208                    那个时候还没有疫情  0.548818\n",
       "14501                   疫情期间，有时间看了  0.334133\n",
       "5123    2022年4月14号，上海疫情严重，希望早点好起来！  0.378715\n",
       "15048        2022.6.21夏至，四川成都，疫情很轻  0.749974\n",
       "2629     2022年五月11号 希望疫情早点过去小猪早点复出  0.451093\n",
       "14468                  2023年疫情消失了吗  0.562255\n",
       "13384                 上海疫情爆发，回家上网课  0.908016\n",
       "140         2022年4.23号重温旧梦，没有疫情的日子  0.935120\n",
       "10400         2020.4.20 经历过疫情再回来重温  0.900178\n",
       "24630         2021.5.24号，无数刷，疫情隔离中  0.188059\n",
       "1559      2022年3月24日，因疫情原因，第4次再刷一遍  0.024086\n",
       "16090        2022年4月10上海疫情·无聊的来刷一遍  0.024810\n",
       "1784                     洪水疫情，疫情洪水  0.421875\n",
       "1023            有没有疫情期间在家第n次看极限挑战的  0.172900\n",
       "1409     2022打卡 7年了 重温无数遍 希望疫情赶快过去  0.955602\n",
       "13281              没有疫情的2015，不用戴口罩  0.658023\n",
       "12705               20220525疫情还没结束  0.339647\n",
       "23761                          有疫情  0.500000\n",
       "4901            2022被疫情关在家的我又来刷极挑了  0.273437\n",
       "322      打卡，2020年，发生了疫情，请大家到时候注意安全  0.286577\n",
       "14960         疫情封校不上课 没啥好看 只能重温极限了  0.888657\n",
       "17505                有多少人是因为疫情过来的？  0.544346\n",
       "13285            那时候还没有疫情 大家也不用戴口罩  0.722204\n",
       "12657                  那时还可以疫情 怀念呀  0.740079\n",
       "1805         这里是二零二一年冬天疫情又开始了我在这重刷  0.425705\n",
       "15895                 这个时候多么好，没有疫情  0.728080\n",
       "11963        这个时候真好，开心，健康，没有疫情😃😃😃😃  0.934134\n",
       "1705                20220127疫情控制良好  0.480206\n",
       "16152                     这时候还没有疫情  0.135282\n",
       "7733            我从2021回来的，现在疫情还在继续  0.459768"
      ]
     },
     "execution_count": 123,
     "metadata": {},
     "output_type": "execute_result"
    }
   ],
   "source": [
    "qq_df[qq_df['contents'].str.contains(\"疫情\")]"
   ]
  },
  {
   "cell_type": "code",
   "execution_count": null,
   "metadata": {},
   "outputs": [],
   "source": []
  }
 ],
 "metadata": {
  "kernelspec": {
   "display_name": "Python 3.10.2 64-bit",
   "language": "python",
   "name": "python3"
  },
  "language_info": {
   "codemirror_mode": {
    "name": "ipython",
    "version": 3
   },
   "file_extension": ".py",
   "mimetype": "text/x-python",
   "name": "python",
   "nbconvert_exporter": "python",
   "pygments_lexer": "ipython3",
   "version": "3.10.2"
  },
  "orig_nbformat": 4,
  "vscode": {
   "interpreter": {
    "hash": "aee8b7b246df8f9039afb4144a1f6fd8d2ca17a180786b69acc140d282b71a49"
   }
  }
 },
 "nbformat": 4,
 "nbformat_minor": 2
}
