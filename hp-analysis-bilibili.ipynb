{
 "cells": [
  {
   "cell_type": "markdown",
   "metadata": {},
   "source": [
    "# Harry Potter bullet scrren analysis - Bilibili"
   ]
  },
  {
   "cell_type": "markdown",
   "metadata": {},
   "source": [
    "analysis about bullet screen from the movie *Harry Potter and the Sorcerer's Stone* on video website Bilibili"
   ]
  },
  {
   "cell_type": "code",
   "execution_count": 1,
   "metadata": {},
   "outputs": [],
   "source": [
    "import pandas as pd\n",
    "import requests\n",
    "import jieba\n",
    "from bs4 import BeautifulSoup"
   ]
  },
  {
   "cell_type": "markdown",
   "metadata": {},
   "source": [
    "## 弹幕获取\n",
    "弹幕列表：contents"
   ]
  },
  {
   "cell_type": "code",
   "execution_count": 2,
   "metadata": {},
   "outputs": [],
   "source": [
    "# 弹幕位置的固定格式 http://comment.bilibili.com/+cid+.xml\n",
    "# 详情见文章 https://www.jb51.net/article/236663.htm\n",
    "# https://api.bilibili.com/x/player/pagelist?bvid=BV1qt411j7fV\n",
    "\n",
    "url = \"https://comment.bilibili.com/112148195.xml\""
   ]
  },
  {
   "cell_type": "code",
   "execution_count": 3,
   "metadata": {},
   "outputs": [],
   "source": [
    "# 假装浏览器\n",
    "header ={\n",
    "    'User-Agent':'Mozilla/5.0 (Windows NT 10.0; Win64; x64) AppleWebKit/537.36 (KHTML, like Gecko) Chrome/98.0.4758.80 Safari/537.36 Edg/98.0.1108.43'\n",
    "}\n",
    "\n",
    "# 发送请求\n",
    "req = requests.get(url = url, headers=header)\n",
    "# 获取内容响应的内容\n",
    "html_byte = req.content\n",
    "# 将byte转为str\n",
    "html_str = str(html_byte,\"utf-8\")"
   ]
  },
  {
   "cell_type": "code",
   "execution_count": 4,
   "metadata": {},
   "outputs": [],
   "source": [
    "# 解析\n",
    "soup = BeautifulSoup(html_str,'html.parser')\n",
    "#找到html文件里的<d>标签\n",
    "results = soup.find_all('d')\n",
    "#把标签里的文本提取出来\n",
    "contents = [x.text for x in results]\n",
    "#存为字典\n",
    "dic ={\"contents\" : contents}"
   ]
  },
  {
   "cell_type": "markdown",
   "metadata": {},
   "source": [
    "## 弹幕分析"
   ]
  },
  {
   "cell_type": "markdown",
   "metadata": {},
   "source": [
    "### 初始化"
   ]
  },
  {
   "cell_type": "code",
   "execution_count": 6,
   "metadata": {},
   "outputs": [
    {
     "data": {
      "text/plain": [
       "0       我也想要这个魔杖，他能扶人两次！快！\n",
       "1       这就是为什么学车教练要坐副驾驶的原因\n",
       "2                   嘴角瞬间下扬\n",
       "3          冷知识，演达利表哥的演员叫哈利\n",
       "4          《除了霍格沃兹外最安全的地方》\n",
       "               ...        \n",
       "3947         特效几块钱啊，我也想买一个\n",
       "3948               《猪尾巴达利》\n",
       "3949                     寄\n",
       "3950              黑幕，黑幕！！！\n",
       "3951            此时的伏地魔还有鼻子\n",
       "Name: contents, Length: 3952, dtype: object"
      ]
     },
     "execution_count": 6,
     "metadata": {},
     "output_type": "execute_result"
    }
   ],
   "source": [
    "df = pd.DataFrame(dic)\n",
    "df[\"contents\"]"
   ]
  },
  {
   "cell_type": "markdown",
   "metadata": {},
   "source": [
    "### 最多弹幕"
   ]
  },
  {
   "cell_type": "code",
   "execution_count": 7,
   "metadata": {},
   "outputs": [
    {
     "data": {
      "text/plain": [
       "contents\n",
       "除你武器        213\n",
       "阿瓦达索命       134\n",
       "生日快乐         29\n",
       "[ohh]        17\n",
       "梦开始的地方       12\n",
       "阿瓦达啃大瓜       12\n",
       "斯莱特林         12\n",
       "斯莱特林！        10\n",
       "哈哈哈我去        10\n",
       "哈哈哈哈哈        10\n",
       "哈哈哈           9\n",
       "拉文克劳          9\n",
       "阿兹卡班          9\n",
       "阿兹卡班！         8\n",
       "危             7\n",
       "哈哈哈哈哈哈哈       7\n",
       "赫奇帕奇          7\n",
       "斯莱特林报道        6\n",
       "格兰芬多          6\n",
       "GGAD          6\n",
       "dtype: int64"
      ]
     },
     "execution_count": 7,
     "metadata": {},
     "output_type": "execute_result"
    }
   ],
   "source": [
    "df.value_counts()[:20]"
   ]
  },
  {
   "cell_type": "markdown",
   "metadata": {},
   "source": [
    "### 词频统计\n",
    "部分结果在 hp_b_result.txt"
   ]
  },
  {
   "cell_type": "code",
   "execution_count": 8,
   "metadata": {},
   "outputs": [
    {
     "name": "stderr",
     "output_type": "stream",
     "text": [
      "Building prefix dict from the default dictionary ...\n",
      "Loading model from cache /var/folders/tq/97hzwp4x569b8bm08dtf2gv40000gn/T/jieba.cache\n",
      "Loading model cost 0.291 seconds.\n",
      "Prefix dict has been built successfully.\n"
     ]
    }
   ],
   "source": [
    "jieba.load_userdict(\"哈利波特词表.txt\")"
   ]
  },
  {
   "cell_type": "code",
   "execution_count": 9,
   "metadata": {},
   "outputs": [],
   "source": [
    "b_all_danmu_text = \"\"\n",
    "for i in contents:\n",
    "    b_all_danmu_text+=i+' '\n",
    "a = jieba.lcut(b_all_danmu_text, cut_all=False)"
   ]
  },
  {
   "cell_type": "code",
   "execution_count": 10,
   "metadata": {},
   "outputs": [],
   "source": [
    "counts={}\n",
    "for word in a:\n",
    "    counts[word] = counts.get(word,0)+1"
   ]
  },
  {
   "cell_type": "code",
   "execution_count": 11,
   "metadata": {},
   "outputs": [
    {
     "name": "stdout",
     "output_type": "stream",
     "text": [
      "!\n"
     ]
    }
   ],
   "source": [
    "# excludes = {\"，\",\"：\",\"“\",\"。\",\"”\",\"、\",\"；\",\"！\",\"？\",\".\"}\n",
    "excludes=[]\n",
    "tingyongci = open(\"停用词.txt\",'r')\n",
    "print(tingyongci.readline()[:-1])\n",
    "for i in tingyongci.readlines():\n",
    "    excludes.append(i[:-1])\n",
    "for word in excludes:\n",
    "    try:\n",
    "        del counts[word]\n",
    "    except:\n",
    "        pass"
   ]
  },
  {
   "cell_type": "code",
   "execution_count": 12,
   "metadata": {},
   "outputs": [],
   "source": [
    "items = list(counts.items())\n",
    "items.sort(key=lambda x:x[1],reverse = True)"
   ]
  },
  {
   "cell_type": "code",
   "execution_count": 13,
   "metadata": {},
   "outputs": [],
   "source": [
    "hp_qq_result = open(\"hp_b_result.txt\",\"w\")\n",
    "for i in range(200):\n",
    "    word, count = items[i]\n",
    "    hp_qq_result.writelines(\"{0:<10}{1:>5}\\n\".format(word,count))\n",
    "hp_qq_result.close()"
   ]
  },
  {
   "cell_type": "code",
   "execution_count": 14,
   "metadata": {},
   "outputs": [
    {
     "name": "stdout",
     "output_type": "stream",
     "text": [
      "190\n"
     ]
    }
   ],
   "source": [
    "test_word = \"哈哈\"\n",
    "\n",
    "count = 0\n",
    "for i in df[\"contents\"]:\n",
    "    if test_word in i:\n",
    "        count+=1\n",
    "\n",
    "print(count)"
   ]
  },
  {
   "cell_type": "code",
   "execution_count": null,
   "metadata": {},
   "outputs": [],
   "source": []
  }
 ],
 "metadata": {
  "interpreter": {
   "hash": "aee8b7b246df8f9039afb4144a1f6fd8d2ca17a180786b69acc140d282b71a49"
  },
  "kernelspec": {
   "display_name": "Python 3.10.2 64-bit",
   "language": "python",
   "name": "python3"
  },
  "language_info": {
   "codemirror_mode": {
    "name": "ipython",
    "version": 3
   },
   "file_extension": ".py",
   "mimetype": "text/x-python",
   "name": "python",
   "nbconvert_exporter": "python",
   "pygments_lexer": "ipython3",
   "version": "3.10.2"
  },
  "orig_nbformat": 4
 },
 "nbformat": 4,
 "nbformat_minor": 2
}
