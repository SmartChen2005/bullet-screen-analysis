{
 "cells": [
  {
   "cell_type": "markdown",
   "metadata": {},
   "source": [
    "# Harry Potter bullet screen analysis - Bilibili"
   ]
  },
  {
   "cell_type": "markdown",
   "metadata": {},
   "source": [
    "analysis about bullet screen from the movie *Harry Potter and the Sorcerer's Stone* on video website Bilibili"
   ]
  },
  {
   "cell_type": "code",
   "execution_count": 1,
   "metadata": {},
   "outputs": [],
   "source": [
    "import pandas as pd\n",
    "import requests\n",
    "import jieba\n",
    "from bs4 import BeautifulSoup\n",
    "import matplotlib.pyplot as plt\n",
    "import numpy as np\n",
    "from jieba import analyse"
   ]
  },
  {
   "cell_type": "markdown",
   "metadata": {},
   "source": [
    "## 弹幕获取 Bullet screen extraction\n",
    "弹幕列表：contents"
   ]
  },
  {
   "cell_type": "code",
   "execution_count": 2,
   "metadata": {},
   "outputs": [],
   "source": [
    "# 弹幕位置的固定格式 http://comment.bilibili.com/+cid+.xml\n",
    "# 详情见文章 https://www.jb51.net/article/236663.htm\n",
    "# https://api.bilibili.com/x/player/pagelist?bvid=BV1qt411j7fV\n",
    "\n",
    "url = \"https://comment.bilibili.com/112148195.xml\""
   ]
  },
  {
   "cell_type": "code",
   "execution_count": 3,
   "metadata": {},
   "outputs": [],
   "source": [
    "# 假装浏览器\n",
    "header ={\n",
    "    'User-Agent':'Mozilla/5.0 (Windows NT 10.0; Win64; x64) AppleWebKit/537.36 (KHTML, like Gecko) Chrome/98.0.4758.80 Safari/537.36 Edg/98.0.1108.43'\n",
    "}\n",
    "\n",
    "# 发送请求\n",
    "req = requests.get(url = url, headers=header)\n",
    "# 获取内容响应的内容\n",
    "html_byte = req.content\n",
    "# 将byte转为str\n",
    "html_str = str(html_byte,\"utf-8\")"
   ]
  },
  {
   "cell_type": "code",
   "execution_count": 4,
   "metadata": {},
   "outputs": [],
   "source": [
    "# 解析\n",
    "soup = BeautifulSoup(html_str,'html.parser')\n",
    "#找到html文件里的<d>标签\n",
    "results = soup.find_all('d')\n",
    "#把标签里的文本提取出来\n",
    "contents = [x.text for x in results]\n",
    "#存为字典\n",
    "dic ={\"contents\" : contents}"
   ]
  },
  {
   "cell_type": "markdown",
   "metadata": {},
   "source": [
    "## 弹幕分析 Bullet screen analysis"
   ]
  },
  {
   "cell_type": "markdown",
   "metadata": {},
   "source": [
    "### 初始化 initialization"
   ]
  },
  {
   "cell_type": "code",
   "execution_count": 5,
   "metadata": {},
   "outputs": [
    {
     "data": {
      "text/plain": [
       "0                                       除你武器\n",
       "1                                 大家好，我是青蛙刀圣\n",
       "2                              罗尼太可爱了小表情哈哈哈哈\n",
       "3                                       除你武器\n",
       "4                                好喜欢这个氛围，好温暖\n",
       "                        ...                 \n",
       "9502                             这门是往外开的，教授！\n",
       "9503    这个故事告诉我们，如果你在现实世界里很穷，说不定在另外一个世界里就很富裕\n",
       "9504                     邓多多：这届我最偏爱的学生就决定是你了\n",
       "9505                                《当幸福来敲门》\n",
       "9506                    【物品：哈利的扫帚光轮2000】开始加载\n",
       "Name: contents, Length: 9507, dtype: object"
      ]
     },
     "execution_count": 5,
     "metadata": {},
     "output_type": "execute_result"
    }
   ],
   "source": [
    "df = pd.DataFrame(dic)\n",
    "df[\"contents\"]"
   ]
  },
  {
   "cell_type": "markdown",
   "metadata": {},
   "source": [
    "### 最多弹幕 most frequent bullet screen"
   ]
  },
  {
   "cell_type": "code",
   "execution_count": 6,
   "metadata": {},
   "outputs": [
    {
     "data": {
      "text/plain": [
       "contents\n",
       "除你武器        1357\n",
       "阿瓦达索命        999\n",
       "生日快乐          88\n",
       "梦开始的地方        47\n",
       "格兰芬多          37\n",
       "拉文克劳          36\n",
       "斯莱特林          35\n",
       "赫奇帕奇          35\n",
       "阿瓦达啃大瓜        33\n",
       "阿兹卡班          28\n",
       "斯莱特林报道        20\n",
       "生日快乐！         19\n",
       "阿兹卡班！         19\n",
       "[ohh]         19\n",
       "？             17\n",
       "合影            16\n",
       "哈哈哈哈哈         14\n",
       "9¾            14\n",
       "哈哈哈哈          13\n",
       "哈哈哈           13\n",
       "dtype: int64"
      ]
     },
     "execution_count": 6,
     "metadata": {},
     "output_type": "execute_result"
    }
   ],
   "source": [
    "df.value_counts()[:20]"
   ]
  },
  {
   "cell_type": "markdown",
   "metadata": {},
   "source": [
    "### 词频统计 word count\n",
    "results in hp_b_result.txt"
   ]
  },
  {
   "cell_type": "code",
   "execution_count": 7,
   "metadata": {},
   "outputs": [
    {
     "name": "stderr",
     "output_type": "stream",
     "text": [
      "Building prefix dict from the default dictionary ...\n",
      "Loading model from cache /var/folders/tq/97hzwp4x569b8bm08dtf2gv40000gn/T/jieba.cache\n",
      "Loading model cost 0.298 seconds.\n",
      "Prefix dict has been built successfully.\n"
     ]
    }
   ],
   "source": [
    "jieba.load_userdict(\"哈利波特词表.txt\")"
   ]
  },
  {
   "cell_type": "code",
   "execution_count": 59,
   "metadata": {},
   "outputs": [],
   "source": [
    "b_all_danmu_text=' '\n",
    "for i in df['contents']:\n",
    "    b_all_danmu_text += i+' '\n",
    "a = jieba.lcut(b_all_danmu_text, cut_all=False)"
   ]
  },
  {
   "cell_type": "code",
   "execution_count": 60,
   "metadata": {},
   "outputs": [],
   "source": [
    "counts={}\n",
    "for word in a:\n",
    "    counts[word] = counts.get(word,0)+1"
   ]
  },
  {
   "cell_type": "code",
   "execution_count": 61,
   "metadata": {},
   "outputs": [
    {
     "name": "stdout",
     "output_type": "stream",
     "text": [
      "!\n"
     ]
    }
   ],
   "source": [
    "# excludes = {\"，\",\"：\",\"“\",\"。\",\"”\",\"、\",\"；\",\"！\",\"？\",\".\"}\n",
    "excludes=[]\n",
    "tingyongci = open(\"停用词.txt\",'r')\n",
    "print(tingyongci.readline()[:-1])\n",
    "for i in tingyongci.readlines():\n",
    "    excludes.append(i[:-1])\n",
    "for word in excludes:\n",
    "    try:\n",
    "        del counts[word]\n",
    "    except:\n",
    "        pass"
   ]
  },
  {
   "cell_type": "code",
   "execution_count": 62,
   "metadata": {},
   "outputs": [],
   "source": [
    "items = list(counts.items())\n",
    "items.sort(key=lambda x:x[1],reverse = True)"
   ]
  },
  {
   "cell_type": "code",
   "execution_count": 63,
   "metadata": {},
   "outputs": [],
   "source": [
    "hp_qq_result = open(\"hp_b_result.txt\",\"w\")\n",
    "for i in range(200):\n",
    "    word, count = items[i]\n",
    "    hp_qq_result.writelines(\"{0:<10}{1:>5}\\n\".format(word,count))\n",
    "hp_qq_result.close()"
   ]
  },
  {
   "cell_type": "code",
   "execution_count": 64,
   "metadata": {},
   "outputs": [
    {
     "name": "stdout",
     "output_type": "stream",
     "text": [
      "336\n"
     ]
    }
   ],
   "source": [
    "test_word = \"哈哈\"\n",
    "\n",
    "count = 0\n",
    "for i in df[\"contents\"]:\n",
    "    if test_word in i:\n",
    "        count+=1\n",
    "\n",
    "print(count)"
   ]
  },
  {
   "cell_type": "markdown",
   "metadata": {},
   "source": [
    "### 情感分析 sentiment analysis"
   ]
  },
  {
   "cell_type": "code",
   "execution_count": 65,
   "metadata": {},
   "outputs": [],
   "source": [
    "from snownlp import SnowNLP"
   ]
  },
  {
   "cell_type": "code",
   "execution_count": 66,
   "metadata": {},
   "outputs": [
    {
     "data": {
      "text/html": [
       "<div>\n",
       "<style scoped>\n",
       "    .dataframe tbody tr th:only-of-type {\n",
       "        vertical-align: middle;\n",
       "    }\n",
       "\n",
       "    .dataframe tbody tr th {\n",
       "        vertical-align: top;\n",
       "    }\n",
       "\n",
       "    .dataframe thead th {\n",
       "        text-align: right;\n",
       "    }\n",
       "</style>\n",
       "<table border=\"1\" class=\"dataframe\">\n",
       "  <thead>\n",
       "    <tr style=\"text-align: right;\">\n",
       "      <th></th>\n",
       "      <th>contents</th>\n",
       "      <th>emotion</th>\n",
       "    </tr>\n",
       "  </thead>\n",
       "  <tbody>\n",
       "    <tr>\n",
       "      <th>0</th>\n",
       "      <td>除你武器</td>\n",
       "      <td>0.700000</td>\n",
       "    </tr>\n",
       "    <tr>\n",
       "      <th>1</th>\n",
       "      <td>大家好，我是青蛙刀圣</td>\n",
       "      <td>0.960687</td>\n",
       "    </tr>\n",
       "    <tr>\n",
       "      <th>2</th>\n",
       "      <td>罗尼太可爱了小表情哈哈哈哈</td>\n",
       "      <td>0.935794</td>\n",
       "    </tr>\n",
       "    <tr>\n",
       "      <th>3</th>\n",
       "      <td>除你武器</td>\n",
       "      <td>0.700000</td>\n",
       "    </tr>\n",
       "    <tr>\n",
       "      <th>4</th>\n",
       "      <td>好喜欢这个氛围，好温暖</td>\n",
       "      <td>0.995823</td>\n",
       "    </tr>\n",
       "  </tbody>\n",
       "</table>\n",
       "</div>"
      ],
      "text/plain": [
       "        contents   emotion\n",
       "0           除你武器  0.700000\n",
       "1     大家好，我是青蛙刀圣  0.960687\n",
       "2  罗尼太可爱了小表情哈哈哈哈  0.935794\n",
       "3           除你武器  0.700000\n",
       "4    好喜欢这个氛围，好温暖  0.995823"
      ]
     },
     "execution_count": 66,
     "metadata": {},
     "output_type": "execute_result"
    }
   ],
   "source": [
    "df['emotion'] = df['contents'].apply(lambda x: SnowNLP(x).sentiments)\n",
    "df.head()"
   ]
  },
  {
   "cell_type": "code",
   "execution_count": 67,
   "metadata": {},
   "outputs": [
    {
     "data": {
      "text/plain": [
       "count    9507.000000\n",
       "mean        0.671860\n",
       "std         0.247641\n",
       "min         0.000130\n",
       "25%         0.500000\n",
       "50%         0.700000\n",
       "75%         0.858738\n",
       "max         1.000000\n",
       "Name: emotion, dtype: float64"
      ]
     },
     "execution_count": 67,
     "metadata": {},
     "output_type": "execute_result"
    }
   ],
   "source": [
    "df['emotion'].describe()"
   ]
  },
  {
   "cell_type": "code",
   "execution_count": 68,
   "metadata": {},
   "outputs": [
    {
     "data": {
      "image/png": "[encoded data removed]",
      "text/plain": [
       "<Figure size 432x288 with 1 Axes>"
      ]
     },
     "metadata": {
      "needs_background": "light"
     },
     "output_type": "display_data"
    }
   ],
   "source": [
    "#  绘制情感分直方图\n",
    "plt.rcParams['font.sans-serif'] = ['SimHei']\n",
    "plt.rcParams['axes.unicode_minus'] = False\n",
    " \n",
    "bins = np.arange(0, 1.1, 0.1)\n",
    "plt.hist(df['emotion'], bins, color = '#4F94CD', alpha=0.9)\n",
    "plt.xlim(0, 1)\n",
    "plt.xlabel('emotion score (higher score means more positive emotion)')\n",
    "plt.ylabel('count')\n",
    "plt.title('harry potter bullet screen on bilibili')\n",
    "plt.show()"
   ]
  },
  {
   "cell_type": "code",
   "execution_count": 69,
   "metadata": {},
   "outputs": [
    {
     "data": {
      "text/plain": [
       "[('除你武器', 0.7479784015244205),\n",
       " ('阿瓦达索命', 0.5611180399088438),\n",
       " ('哈哈哈', 0.22802181044880074),\n",
       " ('哈利', 0.2097767668852767),\n",
       " ('生日快乐', 0.11648632703173284),\n",
       " ('格兰芬多', 0.08537585487608246),\n",
       " ('斯莱特林', 0.07893239413071775),\n",
       " ('拉文克劳', 0.06389765239153342),\n",
       " ('罗恩', 0.06212201872552551),\n",
       " ('哈哈哈哈', 0.06140558253655138)]"
      ]
     },
     "execution_count": 69,
     "metadata": {},
     "output_type": "execute_result"
    }
   ],
   "source": [
    "key_words = jieba.analyse.extract_tags(sentence=b_all_danmu_text, topK=10, withWeight=True, allowPOS=())\n",
    "key_words"
   ]
  },
  {
   "cell_type": "code",
   "execution_count": 70,
   "metadata": {},
   "outputs": [
    {
     "data": {
      "text/html": [
       "<div>\n",
       "<style scoped>\n",
       "    .dataframe tbody tr th:only-of-type {\n",
       "        vertical-align: middle;\n",
       "    }\n",
       "\n",
       "    .dataframe tbody tr th {\n",
       "        vertical-align: top;\n",
       "    }\n",
       "\n",
       "    .dataframe thead th {\n",
       "        text-align: right;\n",
       "    }\n",
       "</style>\n",
       "<table border=\"1\" class=\"dataframe\">\n",
       "  <thead>\n",
       "    <tr style=\"text-align: right;\">\n",
       "      <th></th>\n",
       "      <th>contents</th>\n",
       "      <th>emotion</th>\n",
       "    </tr>\n",
       "  </thead>\n",
       "  <tbody>\n",
       "    <tr>\n",
       "      <th>18</th>\n",
       "      <td>赫奇帕奇</td>\n",
       "      <td>0.193012</td>\n",
       "    </tr>\n",
       "    <tr>\n",
       "      <th>32</th>\n",
       "      <td>0</td>\n",
       "      <td>0.034483</td>\n",
       "    </tr>\n",
       "    <tr>\n",
       "      <th>34</th>\n",
       "      <td>树:我招你了？干嘛砍我</td>\n",
       "      <td>0.019594</td>\n",
       "    </tr>\n",
       "    <tr>\n",
       "      <th>37</th>\n",
       "      <td>顺序乱了，应该按字母顺序来的</td>\n",
       "      <td>0.001617</td>\n",
       "    </tr>\n",
       "    <tr>\n",
       "      <th>67</th>\n",
       "      <td>卧槽卧槽卧槽不敢相信！</td>\n",
       "      <td>0.172117</td>\n",
       "    </tr>\n",
       "  </tbody>\n",
       "</table>\n",
       "</div>"
      ],
      "text/plain": [
       "          contents   emotion\n",
       "18            赫奇帕奇  0.193012\n",
       "32               0  0.034483\n",
       "34     树:我招你了？干嘛砍我  0.019594\n",
       "37  顺序乱了，应该按字母顺序来的  0.001617\n",
       "67     卧槽卧槽卧槽不敢相信！  0.172117"
      ]
     },
     "execution_count": 70,
     "metadata": {},
     "output_type": "execute_result"
    }
   ],
   "source": [
    "df_bad=df[df['emotion']<0.2]\n",
    "df_bad.head()"
   ]
  },
  {
   "cell_type": "code",
   "execution_count": 71,
   "metadata": {},
   "outputs": [
    {
     "data": {
      "text/plain": [
       "[('赫奇帕奇', 0.3570637048539919),\n",
       " ('斯莱特林', 0.0961325359222286),\n",
       " ('合影', 0.08480504369911546),\n",
       " ('格兰芬多', 0.06866609708730614),\n",
       " ('海格', 0.057504345966226306),\n",
       " ('扣分', 0.05174782457162551),\n",
       " ('黑幕', 0.05143303009793797),\n",
       " ('海德', 0.045001948395347505),\n",
       " ('飞贼', 0.04449870772848938),\n",
       " ('哈利', 0.04449870772848938),\n",
       " ('为啥', 0.04223733533658817),\n",
       " ('不是', 0.04135921465979322),\n",
       " ('小天狼星', 0.041199658252383684),\n",
       " ('那个', 0.03271192903223435),\n",
       " ('卧槽', 0.03193722608156232),\n",
       " ('鬼才', 0.031465360921309596),\n",
       " ('昏昏', 0.03015359066714532),\n",
       " ('原著', 0.029187271779724296),\n",
       " ('好像', 0.029036403299155657),\n",
       " ('邓布利多', 0.027466438834922457),\n",
       " ('bushi', 0.027466438834922457),\n",
       " ('赫敏', 0.027466438834922457),\n",
       " ('倒地', 0.025531425496496264),\n",
       " ('现场', 0.025379941311016656),\n",
       " ('爆破', 0.02480754584454337),\n",
       " ('当时', 0.02417150230020103),\n",
       " ('德拉科', 0.023952919561171737),\n",
       " ('这个', 0.022539101751642737),\n",
       " ('一万三千五百斤', 0.021564129737334865),\n",
       " ('分院', 0.021523442065066054),\n",
       " ('斗篷', 0.0212887964704193),\n",
       " ('一换', 0.020599829126191842),\n",
       " ('进度条', 0.020599829126191842),\n",
       " ('66', 0.020599829126191842),\n",
       " ('拉文克劳', 0.020599829126191842),\n",
       " ('胖鸡', 0.020599829126191842),\n",
       " ('好帅', 0.020599829126191842),\n",
       " ('12', 0.020599829126191842),\n",
       " ('破特', 0.020599829126191842),\n",
       " ('floor', 0.020599829126191842),\n",
       " ('宿管', 0.020599829126191842),\n",
       " ('不会', 0.020272124891717404),\n",
       " ('是不是', 0.020173951089098217),\n",
       " ('收下', 0.020057883186536472),\n",
       " ('呜呜', 0.019993522391062606),\n",
       " ('一个', 0.0194202249658587),\n",
       " ('真的', 0.01941553924538771),\n",
       " ('膝盖', 0.01895046173856404),\n",
       " ('头发', 0.018773015940752442),\n",
       " ('扫把', 0.0182737061217691),\n",
       " ('第二排', 0.01821103930235497),\n",
       " ('他们', 0.01814628812965537),\n",
       " ('哈哈', 0.018109326680022974),\n",
       " ('圆脸', 0.017432202213842618),\n",
       " ('伍德', 0.017282268766973006),\n",
       " ('所以', 0.01701561587902355),\n",
       " ('哈哈哈', 0.016986145406329693),\n",
       " ('巫师', 0.016813686833279724),\n",
       " ('看到', 0.01676557055203906),\n",
       " ('姨妈', 0.016583592532383687),\n",
       " ('出示', 0.016180042754956922),\n",
       " ('应该', 0.016142643453325674),\n",
       " ('阿姨', 0.01612415198686387),\n",
       " ('飞天', 0.01608787385498564),\n",
       " ('虐待', 0.016017531532435382),\n",
       " ('鼻子', 0.015994080886685812),\n",
       " ('干嘛', 0.015949948454043652),\n",
       " ('这里', 0.015421560330327398),\n",
       " ('英寸', 0.015262353592866169),\n",
       " ('怎么', 0.015231326901022399),\n",
       " ('为什么', 0.015183000551780585),\n",
       " ('格沃兹', 0.015172349766111431),\n",
       " ('短道', 0.015172349766111431),\n",
       " ('陌生人', 0.015113346818581275),\n",
       " ('无聊', 0.014789013770470994),\n",
       " ('邮差', 0.014706565609764504),\n",
       " ('就是', 0.014467118755990811),\n",
       " ('弹幕', 0.014376086491556576),\n",
       " ('没有', 0.01430361201677197),\n",
       " ('唱歌', 0.014182877763928776),\n",
       " ('打卡', 0.014119746972429638),\n",
       " ('学长', 0.014119746972429638),\n",
       " ('楼梯', 0.01400787454712809),\n",
       " ('速滑', 0.013910302335094772),\n",
       " ('竟然', 0.013771695392556002),\n",
       " ('指纽特', 0.013733219417461228),\n",
       " ('潘周', 0.013733219417461228),\n",
       " ('29', 0.013733219417461228),\n",
       " ('外开', 0.013733219417461228),\n",
       " ('斯教', 0.013733219417461228),\n",
       " ('doge', 0.013733219417461228),\n",
       " ('阿兹卡班', 0.013733219417461228),\n",
       " ('高德', 0.013733219417461228),\n",
       " ('100', 0.013733219417461228),\n",
       " ('纳威', 0.013733219417461228),\n",
       " ('太像', 0.013733219417461228),\n",
       " ('蛇院', 0.013733219417461228),\n",
       " ('禁林', 0.013733219417461228),\n",
       " ('新手村', 0.013733219417461228),\n",
       " ('618', 0.013733219417461228)]"
      ]
     },
     "execution_count": 71,
     "metadata": {},
     "output_type": "execute_result"
    }
   ],
   "source": [
    "bad_text = ''\n",
    "for i in df_bad['contents']:\n",
    "    bad_text += i\n",
    "# 消极评论关键词\n",
    "# most frequent words in negative comments\n",
    "key_words = jieba.analyse.extract_tags(sentence=bad_text, topK=100, withWeight=True, allowPOS=())\n",
    "key_words"
   ]
  },
  {
   "cell_type": "code",
   "execution_count": 72,
   "metadata": {},
   "outputs": [
    {
     "data": {
      "text/html": [
       "<div>\n",
       "<style scoped>\n",
       "    .dataframe tbody tr th:only-of-type {\n",
       "        vertical-align: middle;\n",
       "    }\n",
       "\n",
       "    .dataframe tbody tr th {\n",
       "        vertical-align: top;\n",
       "    }\n",
       "\n",
       "    .dataframe thead th {\n",
       "        text-align: right;\n",
       "    }\n",
       "</style>\n",
       "<table border=\"1\" class=\"dataframe\">\n",
       "  <thead>\n",
       "    <tr style=\"text-align: right;\">\n",
       "      <th></th>\n",
       "      <th>contents</th>\n",
       "      <th>emotion</th>\n",
       "    </tr>\n",
       "  </thead>\n",
       "  <tbody>\n",
       "    <tr>\n",
       "      <th>5863</th>\n",
       "      <td>疫情结束我要去环球影城</td>\n",
       "      <td>0.765389</td>\n",
       "    </tr>\n",
       "    <tr>\n",
       "      <th>7199</th>\n",
       "      <td>我们那届疫情封校了，焯</td>\n",
       "      <td>0.593406</td>\n",
       "    </tr>\n",
       "  </tbody>\n",
       "</table>\n",
       "</div>"
      ],
      "text/plain": [
       "         contents   emotion\n",
       "5863  疫情结束我要去环球影城  0.765389\n",
       "7199  我们那届疫情封校了，焯  0.593406"
      ]
     },
     "execution_count": 72,
     "metadata": {},
     "output_type": "execute_result"
    }
   ],
   "source": [
    "#接下来用刚才的消极词汇做搜索确认结果\n",
    "df[df['contents'].str.contains(\"疫情\")]"
   ]
  },
  {
   "cell_type": "code",
   "execution_count": 73,
   "metadata": {},
   "outputs": [
    {
     "data": {
      "text/html": [
       "<div>\n",
       "<style scoped>\n",
       "    .dataframe tbody tr th:only-of-type {\n",
       "        vertical-align: middle;\n",
       "    }\n",
       "\n",
       "    .dataframe tbody tr th {\n",
       "        vertical-align: top;\n",
       "    }\n",
       "\n",
       "    .dataframe thead th {\n",
       "        text-align: right;\n",
       "    }\n",
       "</style>\n",
       "<table border=\"1\" class=\"dataframe\">\n",
       "  <thead>\n",
       "    <tr style=\"text-align: right;\">\n",
       "      <th></th>\n",
       "      <th>contents</th>\n",
       "      <th>emotion</th>\n",
       "    </tr>\n",
       "  </thead>\n",
       "  <tbody>\n",
       "    <tr>\n",
       "      <th>9154</th>\n",
       "      <td>北京环球的奥利凡真不错</td>\n",
       "      <td>0.84228</td>\n",
       "    </tr>\n",
       "  </tbody>\n",
       "</table>\n",
       "</div>"
      ],
      "text/plain": [
       "         contents  emotion\n",
       "9154  北京环球的奥利凡真不错  0.84228"
      ]
     },
     "execution_count": 73,
     "metadata": {},
     "output_type": "execute_result"
    }
   ],
   "source": [
    "df[df['contents'].str.contains(\"北京\")]"
   ]
  },
  {
   "cell_type": "code",
   "execution_count": 74,
   "metadata": {},
   "outputs": [
    {
     "data": {
      "text/html": [
       "<div>\n",
       "<style scoped>\n",
       "    .dataframe tbody tr th:only-of-type {\n",
       "        vertical-align: middle;\n",
       "    }\n",
       "\n",
       "    .dataframe tbody tr th {\n",
       "        vertical-align: top;\n",
       "    }\n",
       "\n",
       "    .dataframe thead th {\n",
       "        text-align: right;\n",
       "    }\n",
       "</style>\n",
       "<table border=\"1\" class=\"dataframe\">\n",
       "  <thead>\n",
       "    <tr style=\"text-align: right;\">\n",
       "      <th></th>\n",
       "      <th>contents</th>\n",
       "      <th>emotion</th>\n",
       "    </tr>\n",
       "  </thead>\n",
       "  <tbody>\n",
       "  </tbody>\n",
       "</table>\n",
       "</div>"
      ],
      "text/plain": [
       "Empty DataFrame\n",
       "Columns: [contents, emotion]\n",
       "Index: []"
      ]
     },
     "execution_count": 74,
     "metadata": {},
     "output_type": "execute_result"
    }
   ],
   "source": [
    "df[df['contents'].str.contains(\"会员\")]"
   ]
  },
  {
   "cell_type": "code",
   "execution_count": 75,
   "metadata": {},
   "outputs": [
    {
     "data": {
      "text/html": [
       "<div>\n",
       "<style scoped>\n",
       "    .dataframe tbody tr th:only-of-type {\n",
       "        vertical-align: middle;\n",
       "    }\n",
       "\n",
       "    .dataframe tbody tr th {\n",
       "        vertical-align: top;\n",
       "    }\n",
       "\n",
       "    .dataframe thead th {\n",
       "        text-align: right;\n",
       "    }\n",
       "</style>\n",
       "<table border=\"1\" class=\"dataframe\">\n",
       "  <thead>\n",
       "    <tr style=\"text-align: right;\">\n",
       "      <th></th>\n",
       "      <th>contents</th>\n",
       "      <th>emotion</th>\n",
       "    </tr>\n",
       "  </thead>\n",
       "  <tbody>\n",
       "  </tbody>\n",
       "</table>\n",
       "</div>"
      ],
      "text/plain": [
       "Empty DataFrame\n",
       "Columns: [contents, emotion]\n",
       "Index: []"
      ]
     },
     "execution_count": 75,
     "metadata": {},
     "output_type": "execute_result"
    }
   ],
   "source": [
    "df[df['contents'].str.contains(\"VIP\")]"
   ]
  }
 ],
 "metadata": {
  "interpreter": {
   "hash": "aee8b7b246df8f9039afb4144a1f6fd8d2ca17a180786b69acc140d282b71a49"
  },
  "kernelspec": {
   "display_name": "Python 3.10.2 64-bit",
   "language": "python",
   "name": "python3"
  },
  "language_info": {
   "codemirror_mode": {
    "name": "ipython",
    "version": 3
   },
   "file_extension": ".py",
   "mimetype": "text/x-python",
   "name": "python",
   "nbconvert_exporter": "python",
   "pygments_lexer": "ipython3",
   "version": "3.10.2"
  },
  "orig_nbformat": 4
 },
 "nbformat": 4,
 "nbformat_minor": 2
}
